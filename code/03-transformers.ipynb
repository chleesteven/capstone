{
 "cells": [
  {
   "cell_type": "markdown",
   "metadata": {},
   "source": [
    "# Capstone Project: Amazon Review Classification (Part 3)\n",
    "Author: **Steven Lee**"
   ]
  },
  {
   "cell_type": "markdown",
   "metadata": {},
   "source": [
    "# Transformers and Pretrained Models"
   ]
  },
  {
   "cell_type": "markdown",
   "metadata": {},
   "source": []
  },
  {
   "cell_type": "markdown",
   "metadata": {
    "toc": true
   },
   "source": [
    "<h1>Table of Contents<span class=\"tocSkip\"></span></h1>\n",
    "<div class=\"toc\"><ul class=\"toc-item\"><li><span><a href=\"#Import-Libraries\" data-toc-modified-id=\"Import-Libraries-1\"><span class=\"toc-item-num\">1&nbsp;&nbsp;</span>Import Libraries</a></span></li><li><span><a href=\"#Prepare-Data\" data-toc-modified-id=\"Prepare-Data-2\"><span class=\"toc-item-num\">2&nbsp;&nbsp;</span>Prepare Data</a></span></li><li><span><a href=\"#Sentence-Clustering\" data-toc-modified-id=\"Sentence-Clustering-3\"><span class=\"toc-item-num\">3&nbsp;&nbsp;</span>Sentence Clustering</a></span></li><li><span><a href=\"#Zero-Shot-Classification\" data-toc-modified-id=\"Zero-Shot-Classification-4\"><span class=\"toc-item-num\">4&nbsp;&nbsp;</span>Zero-Shot Classification</a></span></li></ul></div>"
   ]
  },
  {
   "cell_type": "markdown",
   "metadata": {},
   "source": [
    "## Import Libraries"
   ]
  },
  {
   "cell_type": "code",
   "execution_count": 1,
   "metadata": {},
   "outputs": [],
   "source": [
    "import pandas as pd\n",
    "from random import sample\n",
    "\n",
    "# Set pandas display options.\n",
    "pd.set_option('display.max_colwidth', None)\n",
    "pd.set_option('display.max_rows', None)\n",
    "\n",
    "from sentence_transformers import SentenceTransformer\n",
    "from sklearn.cluster import KMeans\n",
    "\n",
    "import warnings\n",
    "warnings.filterwarnings(action='ignore', category=DeprecationWarning)"
   ]
  },
  {
   "cell_type": "markdown",
   "metadata": {},
   "source": [
    "## Prepare Data"
   ]
  },
  {
   "cell_type": "code",
   "execution_count": 2,
   "metadata": {},
   "outputs": [],
   "source": [
    "# Read in LDA data.\n",
    "reviews = pd.read_csv(\"../data/reviews_lda.csv\")"
   ]
  },
  {
   "cell_type": "code",
   "execution_count": 5,
   "metadata": {},
   "outputs": [],
   "source": [
    "# Cleanup null brand values.\n",
    "reviews.loc[reviews['brand'].isnull(), 'brand'] = \"None\""
   ]
  },
  {
   "cell_type": "markdown",
   "metadata": {},
   "source": [
    "## Sentence Clustering"
   ]
  },
  {
   "cell_type": "code",
   "execution_count": 4,
   "metadata": {},
   "outputs": [],
   "source": [
    "embedder = SentenceTransformer('paraphrase-distilroberta-base-v1')\n",
    "\n",
    "# Corpus with example sentences\n",
    "# corpus = ['A man is eating food.',\n",
    "#           'A man is eating a piece of bread.',\n",
    "#           'A man is eating pasta.',\n",
    "#           'The girl is carrying a baby.',\n",
    "#           'The baby is carried by the woman',\n",
    "#           'A man is riding a horse.',\n",
    "#           'A man is riding a white horse on an enclosed ground.',\n",
    "#           'A monkey is playing drums.',\n",
    "#           'Someone in a gorilla costume is playing a set of drums.',\n",
    "#           'A cheetah is running behind its prey.',\n",
    "#           'A cheetah chases prey on across a field.'\n",
    "#           ]\n",
    "\n",
    "# corpus_embeddings = embedder.encode(corpus)"
   ]
  },
  {
   "cell_type": "code",
   "execution_count": 8,
   "metadata": {},
   "outputs": [],
   "source": [
    "corpus = reviews['reviewText'][:500]\n",
    "corpus_embeddings = embedder.encode(corpus)"
   ]
  },
  {
   "cell_type": "code",
   "execution_count": 9,
   "metadata": {},
   "outputs": [
    {
     "data": {
      "text/plain": [
       "array([[ 0.1338466 ,  0.37409598,  0.03262435, ..., -0.21958704,\n",
       "         0.25208724,  0.25093827],\n",
       "       [-0.04750726,  0.48556578, -0.2864431 , ...,  0.06699755,\n",
       "         0.19338712,  0.11747508],\n",
       "       [ 0.20254762,  0.7905678 ,  0.04845462, ...,  0.5033512 ,\n",
       "         0.40976092, -0.09966847],\n",
       "       [-0.18335253,  0.08183303, -0.23407994, ..., -0.07139245,\n",
       "         0.2032198 , -0.2108928 ],\n",
       "       [-0.04755043,  0.18304166, -0.04208577, ..., -0.13454206,\n",
       "         0.00271911, -0.15800172]], dtype=float32)"
      ]
     },
     "execution_count": 9,
     "metadata": {},
     "output_type": "execute_result"
    }
   ],
   "source": [
    "corpus_embeddings[:5]"
   ]
  },
  {
   "cell_type": "code",
   "execution_count": 12,
   "metadata": {},
   "outputs": [],
   "source": [
    "# Perform kmean clustering\n",
    "num_clusters = 28\n",
    "clustering_model = KMeans(n_clusters=num_clusters)\n",
    "clustering_model.fit(corpus_embeddings)\n",
    "cluster_assignment = clustering_model.labels_"
   ]
  },
  {
   "cell_type": "code",
   "execution_count": 13,
   "metadata": {},
   "outputs": [
    {
     "data": {
      "text/plain": [
       "array([10, 21, 10, 12,  2])"
      ]
     },
     "execution_count": 13,
     "metadata": {},
     "output_type": "execute_result"
    }
   ],
   "source": [
    "cluster_assignment[:5]"
   ]
  },
  {
   "cell_type": "code",
   "execution_count": 14,
   "metadata": {},
   "outputs": [],
   "source": [
    "# for sentence_id, cluster_id in enumerate(cluster_assignment):\n",
    "#     if sentence_id == 10: break\n",
    "#     print(cluster_id, sentence_id)"
   ]
  },
  {
   "cell_type": "code",
   "execution_count": 15,
   "metadata": {},
   "outputs": [],
   "source": [
    "clustered_sentences = [[] for i in range(num_clusters)]\n",
    "for sentence_id, cluster_id in enumerate(cluster_assignment):\n",
    "#     print(cluster_id, sentence_id)\n",
    "    clustered_sentences[cluster_id].append(corpus[sentence_id])"
   ]
  },
  {
   "cell_type": "code",
   "execution_count": 16,
   "metadata": {
    "scrolled": true
   },
   "outputs": [
    {
     "data": {
      "text/plain": [
       "['This little device keeps my marriage running. When I want to read and she wants to sleep it is the perfect tool. Shines bright in a small area and easy on batteries.',\n",
       " 'my wife uses every night to read in bed! very bright but concentrated so not to bother me! however, the adapter sux; wire keeps breaking',\n",
       " 'Second one purchased. Perfect for low lighting in the bedroom at night. Wife kept stealing it so I had to order her one as well!',\n",
       " 'Perfect. My wife can now read through the night and I can sleep soundly.',\n",
       " \"Perfect reading light for my daughter's bed. Adjustable arm stays where you put it, and it has two levels of brightness.\",\n",
       " \"Great reading light that I attached to my son's bed. The adjustable arm adjusts easily and stays where you put it. It also has two levels of brightness.\",\n",
       " 'Practical, good amount of light without bothering my sleeping wife. Easy to use and seems well-constructed.',\n",
       " \"I bought this for my wife.  She already had a book light but it wasn't very bright.  This one is very bright and makes it easier for her to read in bed at night.\",\n",
       " 'Perfect. My wife like to read later than I do and, this light gets the job done.',\n",
       " \"Two settings bright and very fricken BRIGHT! Works great for reading when my wife is trying to sleep and I'm not. Clips to books or the head board easily. Flexible to find the just right position.\",\n",
       " 'Now I can read into the night and not disturb my hubby',\n",
       " 'My wife loves it, bright enough to read and not keep me up.  Super light and easy to clip on hardback book and big enough clip for most headboards.',\n",
       " 'Works good. Wife uses for reading at night.',\n",
       " 'Very cool item. Lets me read while my wife sleeps. I like the 2 levels of lighting also.',\n",
       " \"I bought this light for my wife not myself.  She has a hard time sleeping when any lights are on (all in her head I think but I can't convince her of that).  I like to read in bed but I often come to bed later and this little light lets her sleep and lets me read.  Brightness is good, I think they could use even a dimmer setting though.  Clip holds to books just fine.  Also, this light is good for the kids in the back of the vehicle at night when they want to read on long trips.  Recommended.\",\n",
       " \"I got this for my kindle to read in bed before I go to sleep.  It has two settings...bright and brighter.  It works great but it's not what I was looking for.  I had another that I could dial down the brightness but it's no longer being sold.  I gave it 4 starts because it's a good light and the adjustable arm works great...just know that if you want to read in the dark, the space shuttle will pick up on your location.\",\n",
       " 'Very nice overall - two brightness settings and a good spread of light.  Works very nicely on my Kindle.  I wish the dim setting was a little more dim - I worry it is too bright and keeps my wife awake.',\n",
       " \"Who would think dogs would be so fussy.  :)  Mine grumble when I leave the lights on.  This allows me to read until I am tired, and allows them to pass out when they want (so they only grumble when I'm done and they have to move so I can lay down).\",\n",
       " \"If you are an avid reader and don't want to keep your significat other up at night, this may just do the trick.\",\n",
       " \"Nice little light, not so bright it wakes up spouse, but it's not easy to attach to magazines or newspapers that flop. Better with hardback books.\",\n",
       " \"I bought this for my wife and she uses it a lot. I lights her book well and doesn't bother me asleep next to her. I thought it might use batteries up but the LED uses so little power they last a long time. It is good to have the two levels of light too for in the dark the low level is plenty.\",\n",
       " \"I use this at night to read or use my laptop in bed so it doesn't disturb my wife.  Works as advertised.  Has three settings- off, on, and extra bright.  I've been using it sparingly so no comment on the lifespan of batteries or led.\",\n",
       " 'Worked well right out of the box.  Allowed my spouse to read as late into the night as she wanted without disturbing me.  Now that we have both moved on to backlit ereaders I use this light on my work bench to highlight smaller jobs.',\n",
       " \"I like the two brightness settings.  And the flexible arm is great.  I use this in bed every night before going to sleep.  My spouse is not bothered by the light because it's focused on my book pages and not illuminating the whole room.  I also like that I can change the batteries and they are AAA instead of some expensive 'watch-type' batteries. Perfection!\",\n",
       " \"My Mighty Bright works wonderfully on both powers, low and high. My only caution would be that one needs to carry around a lot of batteries if one reads for any extended period of time! This sucker really takes up juice. You don't notice it until the brightness begins to fade slo and one begins squinting to see. Plug it in and forget it. Works great at night so my wife doesn't wake when I decide to read at 2:00 a.m. (C'mon, I'm retired!) Buy it and enjoy bright light reading!\",\n",
       " \"Works great! Perfect for reading with low light and/or in bed. Doesn't bother my wife if she wants to sleep (she has the same light herself on her side) ordered from amazon, showed up on time just as expected. No regrets.\",\n",
       " 'Does exactly what my spouse needed it to: shine on the book and not keep me awake while reading in bed :-)',\n",
       " 'I bought one for each of my 3 kids so they can read at night without having a bright light on.  They are really bright for such a little light.  The neck is very bendable and has lasted after over a year of heavy abuse from the kids.  It also has two brightness levels, which is a plus.',\n",
       " 'I originally bought this for my wife so she could read in bed, but now she uses it with her laptop.  It clips on very easily and provides a lot of light.  It was a real lifesaver during the six days we were without power because of the hurricane.',\n",
       " 'I bought this for my wife so she could read books in our poorly lit house.  Works great, and still on the original battery after quite a bit of use.',\n",
       " \"I always wanted to read when my wife wanted to go to bed.  This light does a good job of lighting up the pages without being so bright it keeps her awake.  My only complaint is that the clip is a little bulky, but it's not a big deal really.\"]"
      ]
     },
     "execution_count": 16,
     "metadata": {},
     "output_type": "execute_result"
    }
   ],
   "source": [
    "clustered_sentences[8]"
   ]
  },
  {
   "cell_type": "code",
   "execution_count": 29,
   "metadata": {},
   "outputs": [
    {
     "name": "stdout",
     "output_type": "stream",
     "text": [
      "Cluster  1\n",
      "['Super great clip for the low price', 'good cheap replacement', 'Perfect replacement and good price.', 'perfect replacements for my KitchenAid drop in microwave/oven combo', 'Works well and cheap fix for a broken lamp', 'Nice replacement bulb, at a super low price']\n",
      "\n",
      "Cluster  2\n",
      "[\"It's a bulb and lasts pretty good. Halogens are hot\", \"Works great, lots cheaper than the bulbs I was buying at Lowe's.\", \"It's a bulb...\", 'A little smaller than the original bulb, but it does the job just fine.', 'I got this pack of bulbs for my halogen lamp. I think I have enough to last a lifetime now, but the bulbs are great!', 'love these bulbs and the price', '$10 for 10 bulbs, compared to HD, $5 for ONE bulb? No brainer. Perfect replacement for my undercounter lights.', 'These bulbs were larger in size than the original bulbs but they work very nicely.', 'great deal on good bulbs', \"They're light bulbs...what can I say. They work.\", '$1.10/bulb for a $4 bulb: Awesome! Accurate size description.', 'great replacement bulbs', 'These lower wattage 20W bulbs make a nice replacement for 50W undercabinet kitchen lamps that are way too bright.', 'Seem to last much longer than replacement bulbs purchased at HD.  Value is good.', 'Great deal.. Bulbs were exact fit for the microwave and at less then a 1$ a piece how can you go wrong.', 'These bulbs are every bit as good as those from Home Depot.  No, they are better.  Their cost is eighty percent less.', 'careful what you buy it for the base is too big on the bulb I had to sand it down. Its dimmer then my original bulbs too...', 'These halogen bulbs were easy to use and work great! The price is good and I would definitely recommend them.', \"These bulbs are way cheaper than the big box stores and seem to work fine.  It's nice to have spares on hand.\", 'Excellent deal for these bulbs and I will be buying more of these. I like the frosted finish that give a softer light.', 'Great price, but of the first two bulbs in installed, one of them had the pins break off while pushing into the socket.', 'Got these as they were the best value on Amazon.  Worked perfectly as a replacement of the original bulbs.  No complaints.', 'What a great price and the quality seems the same as Lowes and Home Depot.  I got 10 bulbs for the same price as 2 bulbs.', 'They are the bulbs I needed. Nut much too say about them, they are just bulbs. They light up when you flip the switch.', 'Good bulbs for the price. Fast shipping  good quality for hard to find bulbs.', 'Seems to be a good bulb at a good price ...', 'Great price for bulbs. No complaints!', 'Not the fault of the bulbs but i bought the wrong bulbs. the price is great though I just wish they were what i need', 'Very pleased with this Bulb works grate', 'Worked well and cannot tell the difference from the original bulbs.', 'Ordered and received very very fast.  Happy with the bulbs!', \"These work well enough, though I'm not terribly impressed by the lifespan of the bulbs, and one bulb was burned out on arrival.\", 'Great replacement bulbs for our the Ikea under counter pod lights.', \"Good quality halogen bulbs for kitchen lighting at the best price I've ever been able to find\", 'These seem to work well and are a lot cheaper than buying similar bulbs from a big box store.', 'Great deal! These bulbs are almost $5 each at Wal-Mart.', 'Good bulb', 'Man you get 10 of these bulbs for like five or six dollars. You cant beat that. Thank you Asia!', \"I'm looking forward to when these lights will be available as LED bulbs.\", 'Nice economical bulb replacement for undercounter lighting.', 'Great deal.  Far less expensive than a big box home store and last as long as any other Halogen bulbs.', 'Great bulbs.  Long lasting, great price.  Does the job advertised.']\n",
      "\n",
      "Cluster  3\n",
      "['Does the job.', 'Does the Job', 'it works.', 'Worked just as I expected.  Our priest even used it during the Easter Vigil when the lights were and it worked out great!', 'It works', 'WORKS', 'Do the job', 'Worked perfectly in my desk lamp!', 'Work perfectly', \"It does it's job .....\", 'Worked for me', 'These worked perfectly', 'Worked exactly as I needed it too.']\n",
      "\n",
      "Cluster  4\n",
      "['returned, decided against this product', 'Great product, quick service!!', 'a great product it does its job I am very happy thank you so much I am really happy with this', \"Excellent product. Well made and works as advertised. I've had it for over a year now with no issues.\", 'Yes, good product for the readers.', 'Product did not work on arrival!', 'Great Product. The whole family loves it.', 'nice product', 'Great product!', 'Great product.', 'Great Product', 'The best product!', 'This product worked for one day then broke.  I sent it back and got a full refund.  It was easy to return, Go Amazon!!', \"overnighted it and i'm tellin you it was just overnight. fast...product is very good works great...\", 'The product is great and recommended', 'Good product...It is dimmable', 'good product good price', 'Good product', 'looks great its a awesome product no complains here.', 'Great product.  So far so good.', 'good product and value', 'Excellent deal on quality product', 'Great product at a great price!', 'product and shipping great', 'Great product', 'Good value for hard to find product', 'good product...']\n",
      "\n",
      "Cluster  5\n",
      "['arrived in good shape. looks fine. will install in 2 weeks and test it out to see how well it works.', 'nice size,2nd one i own,bright enough for my purpose,lighting an exercise monitor with no backlite', 'Handy but not quite bright enough and batteries run down fairly quickly.', 'Been using these for years worth rechargeable batteries. Work great and have a long battery life.', \"Used by our grandchildren nightly. Nice to have the charging cord with it so don't have to keep putting new batteries into it.\", 'Works great. I use rechargeable batteries in it. No complaints.', \"Use it all the time, it's great without getting in the way too much.\", 'Opens wide enough to clamp on thick objects. Love the dual brightness. Uses standard AAA batteries.', \"Stopped working soon.  New batteries didn't help.  It dims so badly that it is useless\", 'Excellent for the music stand. Uses  AAA batteries, rather than the expensive button batteries. Has 2 lighting levels.', 'It moves about the page a lot.  I stopped using it and bought another style.', 'This is clamped to the nightstand next to my bed, and gets lots of use', 'works great on top my lap top. Stays out of the way in daylight.battery lasts long time.', 'I use it for everything', \"Work great but uses batteries up pretty fast. I use rechargeables so it's not an issue for me.\", 'Great little light.  Original cheapo batteries still going strong.', \"I love its flexibility, sleek design, and so far it's worked great.  I use it on my computer monitor and also for reading.\", 'I use this every night. It made a world of difference. Good battery life and it is sturdy. (Have dropped it several times.)', \"I've dropped this a number of times in the bath tub!  (Like to reading bubbles.)  It comes out still shining!\", 'One of the best things I have recently bought. Works great. I just use the batteries not the plug in (kind of cumbersome)', 'Great but wish it ran off of AA batteries.', \"After a week, dims so much that it is useless.  New batteries didn't make a difference.\"]\n",
      "\n",
      "Cluster  6\n",
      "['Quick delivery, no problems!', 'On my second one after breaking the first (my fault, yanked the head off).', 'stopped working soon after I got it', 'Perfect for my little girl.  if it gets broke from being missed used will not hesitate to buy another. no issues at all.', 'A lot smaller than I thought.  Clip does not open far enough to clip on my bed so has to stand alone.', 'Difficult to charge and started falling apart and not charging after a month .', 'Bright and exactly what I was looking for. Only complaint might be pretty stiff and hard to get to lay flat w/o clamping.', 'fast service. nio problems.', 'They work what can I say. Meets my need.', 'Arrived as ordered.  Everything seems to be OK.', 'Seems to perform as expected.', 'Just what I needed.  Appears to last a long time.', 'OK for the price but not a real long life', 'Exactly what I expected.', 'Works fine. Matched others that I already had in the same fixture. Now I got plenty to spare.', \"Great deal,  haven't had any go out in at least a year\", 'Good.  Meet needs.', 'Just what I wanted for my indoor fountain. Thank you']\n",
      "\n",
      "Cluster  7\n",
      "['SUPER quality item. Would buy again!', 'Great item, highly recommend. Easy to use and outstanding quality!!', 'Great buy', 'Great item - better quality than picture, very pleased.', 'Great product, good price, would happily buy again', 'Great item, great price! bought another right away! Love it', 'Great for the music stand and the knitting machine user!', 'Good quality Works great love it!', 'Nice color. Arrived quickly! Hardware included for the complete job!', 'good quality, multipack, terrific price.', 'a real winner-highly recommended', 'Good price and product', '1 out of the 10 was DOA. But, for the price paid, it was worth it.', 'Great deal for the price.', 'Wok perfectly and the price is fantastic.  I recommend this without any reservation whatsoever.', 'best price. good fit. no DOA or infant mortality.', 'very competitive pricing', 'Great price', 'right price', 'great price ... works perfect', 'These are very bright and the color is what we were wanting.  So far, so good!', 'Great price and so far working great.', 'good quality, bright colours', 'These are a great buy! No problems!', 'Bright and clear, works great. Excellent buy.', 'Perfect item just what I needed great buy!!!!', 'For the price, very happy.', 'Great price. Good item .. Works prefect.  Fast and long lasting .. Highly recommend', 'good for the price,', 'great price', 'Good price.  Works.', 'Exactly what we needed and great buy.', 'Good quality at a great price.', 'Well packed, great price.', 'good price', 'Good item and good price', 'working well, great price and seller', 'Great price.', 'Great price, arrived on time and item was as expected.', 'Works perfectly and a really good price.', 'We love the price']\n",
      "\n",
      "Cluster  8\n",
      "['Super fast and easy to install.', 'I think these look very cool little fibers attached to the flake give off a cool sparkle', 'strong and very durable with lots of pages.', 'Bought case to protect LightWedge.  Very nice case made of neoprene like material that cushions as well as protects.', \"These little zippered pouches are an fantastic way to protect your lightwedge when it isn't in use.\", 'This is teeny weeny itsy bitsy.', 'The light is good, but it comes in a big piece of non-recyclable plastic packaging.', 'Really good and clear light. It has two modes of intensity. Easy to install in different surfaces.', 'Not brite enuf. Clamp is too small and too weak. REturned.', 'Good quality.  Strong clip.  Bright light.  Can set on table top without clipping to anything.', 'The clip is extremely bulky, but the light does the job....it is Bright!!!!', 'had to glue light back on to gooseneck.....super glue saves the day again!', 'This is a good light and I like that it has 2 different levels of light. Good clamp too. Good buy.', 'I really like the idea that it can be recharged.  Color is attractive.  Would buy again if it came in a different color.', 'Dimming works. Brand new but so far so good.', 'Finished off my rope light project good quality easy to install just glue tem on & install easy no problem']\n",
      "\n",
      "Cluster  9\n",
      "['Super deal', 'good thenks', 'super strong', 'Magnificent.', 'Excellent quality!', 'Perfect!  Love it!', 'just great', 'Excellent', 'wonderful', 'As presented- Thanks!', 'EXCELLENT !!!!', 'Very good', 'great', 'The best!', 'thanks', 'Does the trick...', 'Very NICE!', 'Great....thanks', 'a great experience', 'So far so good!', 'Perfect thanks', 'Very good', 'excellent good', 'Great deal', 'Good item', 'GREAT', 'Great.', 'Thank you)']\n",
      "\n",
      "Cluster  10\n",
      "['It worked well for a while, but many of the lights quickly burned out.', 'The first bulb works fine for two months now. No problems at all. Arrived on time in excellent condition.', 'burns out too quickly', 'bulbs work great, not for larger areas', 'Bulbs burn out within weeks of limited use.  After a few weeks of 4 hours a night use, several of the bulbs had burned out.', 'Burn out FAST']\n",
      "\n",
      "Cluster  11\n",
      "['WIFE READS DAILY AND USES IT ALWAYS', 'Second one purchased. Perfect for low lighting in the bedroom at night. Wife kept stealing it so I had to order her one as well!', 'Perfect. My wife can now read through the night and I can sleep soundly.', \"Perfect reading light for my daughter's bed. Adjustable arm stays where you put it, and it has two levels of brightness.\", 'Practical, good amount of light without bothering my sleeping wife. Easy to use and seems well-constructed.', 'Perfect. My wife like to read later than I do and, this light gets the job done.', 'Now I can read into the night and not disturb my hubby', 'Works good. Wife uses for reading at night.', 'Very cool item. Lets me read while my wife sleeps. I like the 2 levels of lighting also.', 'Does exactly what my spouse needed it to: shine on the book and not keep me awake while reading in bed :-)', 'Now I can read my Kindle at night and not bother my husband.  Also, Pink is my favorite color', 'This is what i use to bribe my daughter.  Do well listen and you can get some extra reading time in bed.  She loves it']\n",
      "\n",
      "Cluster  12\n",
      "['I bought this for my neighbor and he loves it. Came exactly as described, very sturdy.', 'Beautiful. Early present for my Mom in her new home.  She absolutely loves it.', 'Christmas gift for my grandson who loves to read.', 'This is the second one I have purchased. Just great.', 'I bought this as a gift because I love the one I have had for years (still going strong). My friend loves it!', 'I bought this for my grandmother. She reads over 65 books a year. The light works pretty well.  She seems to like it.', 'Ordered one for my 11 year old to read at night, she loved it so much that my 8 year old wanted one as well!', 'I liked this, one of my kids swiped it.', 'Bought one for my wife for her birthday in early December.  She likes it so much we bought 4 more for Christmas gifts.', 'So great I ordered 3 of these loght and power supply.  My hubby uses one on his saw in the workshop.  Great buy and love mine.', 'I really like it.  Great for vacations.', 'Bought it for my mom. She loves reading. She absolutely loves this light. Excellent quality!', 'It was a gift.  She loved it!  I already had one and she wanted one just like it! Quality product', 'This is light, flexible and functional.  I liked it so well that I bought another one. The price was right too', 'This works well with the Kindle, but it also works great with regular books also. I bought 3 more and gave them as gifts.', 'Great little light and my grandson loves it.', \"This is a gift,haven't given it yet but I think the recipient will like it. It's colorful!\", 'Got this for a gift and she loved it.  Bright LED and very flexible. Has worked without issue now for 6+ months.', 'My 10yr old daughter loves this, shes had it for almost 5 months and it still works great.', 'ordered these for my KitchenAid oven, and they work great!']\n",
      "\n",
      "Cluster  13\n",
      "['as expected', 'as expected', 'As expected.']\n",
      "\n",
      "Cluster  14\n",
      "['Exactly as explained-', 'Just as described.', 'As advertised', 'As advertised.', 'As described', 'as advertised', 'As described.']\n",
      "\n",
      "Cluster  15\n",
      "['works as advertised', 'Works as advertised', 'Works as described.', 'The product works as advertised.']\n",
      "\n",
      "Cluster  16\n",
      "['love it for all eye types but best for older eyes or those of us who need more light to read.', 'Perfect for night reading.  Clips on super strong and the clip stays strong!', \"Great little reading light, at times it can be too bright next to someone in bed but it's better than a lamp or ceiling light.\", 'Great for night reading!', 'Great reading light.', 'Very nice light for reading at night', 'Daughter loves these to read at night. Nice led light . Battery lasts awhile.', 'Use it with my older unlighted Nook when reading in dim light.', \"Good for reading in bed, and stays cool. Enough light to read a book comfortably, yet won't burn your shoulder.\", 'I am using on bed post', 'Nice light.  Just what I wanted for reading in bed.', 'Good brightness... easy to use while in bed reading.', 'Husband loves this while reading in the RV', 'Xtraflex2 Led Book Light is great! I bought it for my son who likes to read in bed.  He really liked it too.', 'I use it as a nightlight on my bedside table during a late pm/early am bathroom run and an awesome book light.', 'My 4 year old loves reading in bed like her big brother!  this light is perfect and the color spot on.', \"If you are an avid reader and don't want to keep your significat other up at night, this may just do the trick.\", 'Great for nighttime reading', 'Nice bright reading light What more can I say? It makes the pages look at night Like they do during the day.', 'my niece loved it.  great for reading in areas of low light level.']\n",
      "\n",
      "Cluster  17\n",
      "['Works great.  Batteries last a long time!', 'BULB NOT AS BRIGHT AS EXPECTED', \"This product is very good when it works. Unfortunately, it didn't last very long.\", 'See how long they last but good so far', 'Cheap Crap!  they burn out fast and there pins seem slightly undersized.', 'These are relatively cheap China products and will need to be replaced more frequently than a higher quality product.', 'Good value and they work fine. Remains to be seen how long they last. Low power consumption is the real motivation.', 'For that price, cant beat it. Seem to last as long as the more expensive ones too. Very good value', 'Let you guys know how good (or bad) they are when the first one burns, should take a while to blow ! .', 'terrible quality, half are dead already.  not recommended.', 'Bought them before, came back for more. They are just great and best price.', 'Works exactly as planned at a fraction of the cost.  Hopefully they last as long as the other manufacturers, but time will tell.', \"Don't last long\"]\n",
      "\n",
      "Cluster  18\n",
      "[\"They work perfectly that's all I can say.\", 'They fit and were a great price', 'excellent value they do light up work fine', 'Works fine and got them for spares.  Price was most economical and delivery was so quick.', 'They are lightbulbs.  You turn them on and they emit light.  Seem of good quality.  None were broken during shipping.', 'Fit GE Profile just fine.', 'They seem to work just fine at a good price', \"they work as expected.  I'm happy with the product.\", 'They work and are economical.  Not much else to be said.', 'They worked and were a 1/5th  the price the Big Box provider was charging.', \"I was skeptical at first.  The price was very low, especially for ten.  Ten came, and they work as well as any I've gotten.\", 'working so far, a few weeks, no porblemnot high quality feel, but no problem and much more reasonable price than others', 'Very inexpensive (not cheap) but seem to work ok.  1 was DOA, but the rest seem to be working fine.', 'These work as they should', \"these b ulbs work great, and for the price, i couldn't find anything close. thumbs up from me.\", 'Lights are hard to find locally and it is great to find them available at a very reasonable price.']\n",
      "\n",
      "Cluster  19\n",
      "['Measurement advertised is incorrect. 22\" is the max.', 'Very small, not enough light for what I wanted.', 'The light I got was an apparent Chinese knock off, it was in a plain white box and is poorly constructed.', 'Batteries lasted maybe a week.  Never again. This is a poorly contructed item that at best gave out a 5\" light.', 'Says it takes 2 2032 batterys, so I ordered a 25 pack along with the light. It does not take these type of batterys!!', 'The shirt fits fine but the \"ride red\" logo is nearly half the size than the one pictured....', 'nice fit. out of 10 in the package 3 did not work.', 'Note this is a pack of 10.  Somehow I missed that fact and ordered two.  On the bright side I have 18 extra bulbs.', 'Maybe I got the wrong bulb but these are bigger around and barely fit in the puck lights I bought them for.', 'These are slightly larger than the fixture.  Not sure why.  I ordered the right one.  Go figure', 'Four (4) of the ten (10) did NOT work.  The filaments were broken.  This is either the result of poor manufacturing or....?', \"advertized size was not actual. these were 2mm too long for my fixtures. sent them back for others. hope they're better.\", 'A little longer than my other halogens so I had to take the covers off of the puck lights but the price makes it worth it.', 'Perfect. Fit the light bar without effort. All lamps worked. I think they cost about 10% of what I otherwise found them.', 'Lights super dim.  Had to return.  Output more like a 10W light.', 'I have lights that i thought would fit, but they are the wrong lights. great price though.. to bad they did not work', 'These are just what the group needed for the track lights!', 'worked but were the wrong size overloaded the lights,use 10 watts', 'Wrong size price ok keep them they fit another lamp I own', 'Did not fit wrong bulbs.', \"too big didn't fit\"]\n",
      "\n",
      "Cluster  20\n",
      "['love this little light,  is as advertised,  works great', 'I use this nightly and it is nice a bright.  Very handy!', 'Great for what I use it for - a light for my laptop and a reading light in a bedroom.', \"This lik guy pack huge lighting power but won't bother your pillow mate.\", 'Love this little book light.  It has two settings - one bright and one a little dimmer.  Totally enjoy using it!', 'its OK.  I would like it if it were brighter and the angle of the light would span the whole book instead of a page at a time.', 'Awesome book light.', 'Great light.  Brighter than my other book lights', 'Great book light for the price.', 'Works great, light on your book depending on size and good battery life.', 'I use this on my Wiztem Freesia Book Stand. The light is super bright and it works well!', 'Best book light out there. Brightest I have found.', 'Best reading light I ever had!!!! Very bright and flexible .', 'This book light works very well for a variety of uses. Great quality, many uses, and worth the price.', 'GREAT light!!!  the best out there and good good price!', 'Great little lamp - gives good light and made well. Good deal.', 'Although 2 bulbs, this book light is not nearly as bright as my original 1-bulb light!', 'I have many of book lights but this is the best one so far.', 'Nice, bright reading light.  Works great with my old Kindle or a book.', 'Perfect size, weight and brightness. I use it for reading books or to see my laptop keyboard. Wish I had this long ago.', 'Very bright and easy to clip to the book. Battery life is acceptable.', 'Great book light.  It gives off a bright light and is of good quality.  Would recommend it to anyone as it is also a good value.', 'Bright and easy to position.  Just what a book light should be.', \"Works well. Can read in the dark. Clip is nice. Doesn't light the entire page though. Needs a wider illumination area.\", 'Love this book light, and great gift idea for readers!!', 'bright light, nicely built, easy to use; excellent product for the money', 'It is fine; a little awkward to use. E-readers are a better approach.', 'This light works great for night reading and illuminates both pages well. Can use it with either 1 or 2 bulbs on.', 'This light provides a good amount of light at a reasonable price.  Plus it has the clip that is useful.  I recommend it.', \"This light is nice and bright It's sturdy and flexible and gives off a lot of light. Great for kids and adults.\", \"This light is nice and bright It's sturdy and flexible and gives off a lot of light. Great for kids and adults.\", 'Bright light, two light settings, comes with batteries, extra flexible, perfect for my purposes.  I am picking up another. .', 'This was a great accessory for nite reading, everyone should have one of these by bedside.  great feature to change dimmer', 'Got it for my wifes kindle and she says thet it is the best reading light she ever used!!!!!', 'Great light. This one is very flexible and does its job with no hassle. Even works well on a paperback.', 'Great little lite has a strong clamp and the 2 settings of brightness is very good, I only need the low setting to read.', 'Works great. Lightweight, easy to use and pack for travel. Casts a really good light for reading.', 'Compact and cute, with a bright light for viewing , thanks so much !!', 'Excellent cute reading light for the kids. Nice and bright, LED light as well.', 'Wow! Talk about FAST shipper!  A++++++++++++++++++++++ Hard to find lamp. Great quality. Best dealer ion the land.  Thanks.']\n",
      "\n",
      "Cluster  21\n",
      "['Works as it should.  Much cheaper than in stores.', 'Works perfect. Much cheaper then home depot.', 'Lamps are good, work well and cost less here than local stores...', \"One fifth the cost of HD or Lowe's.  Work great!\", 'About a third the price of those at local Home Depot or Lowes.  Not much else to say as yet.', 'Work like a charm.  Absolutely no complaints at less than 1/3d what it would cost at the big hardware store near my house.', 'Work well. The price is cheaper than any store I saw.', 'Great price compared to buying at the store. It is the same size as the ones I replaced. Works great.', 'much cheaper than hardware store, works fine.. didn,t need a case of them but will never run out', 'One of the lot did not work... rest seem to be going strong.... Pricing these at hardware stores are insane.', 'A real bargain, considering that buying one locally would have cost probably more than 10 of those.', 'worked perfectly.  Great price compared to Home Depot.', 'Work fine and last longer that some of the cheaper ones I have purchased on Amazon.', 'They work and are cheaper than at Home Depot.']\n",
      "\n",
      "Cluster  22\n",
      "['Awesome heater for the electrical requirements! Makes an awesome preheater for my talnkless system', 'Keeps the mist of your wood trim and on you. Bendable too.', 'Just exactly what you need for your LightWedge.', 'Just exactly what you need for your LightWedge.', 'Light, flexible and adaptable.  I use it for Easter Vigil!', 'Works fine. A little on the bulky side, but it seems like most lights are.', \"Beast little single battery reading lamp I've purchased.  Wound up purchasing another one for my other needs.\", 'Awesome light. We have been using it for 6 months. We have dropped it a few times and no issues, very bright.', \"This light is bizarrely bright.  It's more a disturbance to my husband than just leaving the bedside lamp on!\", \"Great light. Colors don't always match website picture/color.\", 'Works fine and easy to clip on where needed for light', 'Great light.  Does exactly what I expected it to do.', 'Nice lightsmall', 'Works fine with my Kindle. Uniform illumination of the screen. Two brightness modes. No complaints about the color temperature.', 'I use this as a night light on my baby car seat to shine light on the baby just to make sure things are ok back there', 'Great little light.  Just what I needed.', 'works very well and has two light settings', 'good for the price.  I needed more light', \"Great product.  Glad I switched to LED lights.  The conventional ones I use to use weren't producing enough light.\", 'I got this light to do my nails when I a watching TV where I do not have good enough lighting.  It works great. Peace', 'Great little light for kids to use in their room, car, or camping tent. Clips easily and folds down for accurate direction.', 'small enough carry around and provides great light.', 'Works well in my ceiling fan', 'Excellent put it in my motorcycle', 'Fixed my above stove light just what i wanted', 'Works well and the lights on my cabinet all work now.', 'They work fine in LG microwave as over-the-counter lights.', 'Well, it produces light but is a little loose in the socket', 'Fit my lamp', 'A very good value that allowed me to stock up on them.  We use them in several of our work lights.', 'So far so good.  Throw good amount of light.', 'XLNT product WDBA!', 'The only MR11 I use.  Last a long time even in harsh conditions.  I use for all my outdoor lighting.', \"It's a light bulb.  I expected it to work and it did.\", 'Great deal! Lights work perfectly!', 'Perfect replacement for the bulb that blew out in my travel trailer.', 'Works perfectly for my under cabinet lights (which is an ikea set from several years ago, the round ones, not sure of model #).', 'Nice lamps for use in fountain', 'was able to replace higher wattage lights and increase brightness and continuity', 'work fine, use them for outdoor landscape low voltage lighting', 'Replacement lamp for my Thermador range hood. Worked fine.', 'Good easy replacement for my low voltage landscape lights.', 'Worked with a lamp I had bought at IKEA.']\n",
      "\n",
      "Cluster  23\n",
      "['Great quality great value.', 'good value', 'good value save more than 50% than when order it from true value hardware', 'Great value and works great', 'Good value']\n",
      "\n",
      "Cluster  24\n",
      "['works perfectly. Its nice and bright but not to bright that it bothers other people.', 'Works well. Nice and bright.', \"Seems well made, but is not mighty bright. And it's very small.\", \"It's a good light. But man, I can almost perform heart surgery in the night with it. It is a little bright, but works well.\", 'Very bright, works well', 'Very bright (too bright) but a good item.', 'Very bright.', \"not mighty bright. I can't use it by itself, only as an adjunct\", 'Works well, I think it could be brighter.', \"Not as bright as I'd like it to be. A strain on the eyes. It would not be cost-effective to return the light, otherwise I would.\", 'Not nearly as bright as I was hoping it would be!']\n",
      "\n",
      "Cluster  25\n",
      "['Wonderful little light, perfect for young and old!', 'Great bright light!', 'Super bright yet the light is directed in such a way as to not disturb the person next to you!  Perfect!', 'Light gets dim very quick', 'Bright, bluish-white light', 'Awesome little light!', 'Great light!', 'Fantastic, bright light.  With two settings, there is a brightness that will be just right.', 'useful light light', 'Awesome to light an entire room', 'The light is bright for only a few minutes and then it dims to a level that is useless.', \"You want bright lights, you've got it with this rope light. It is very visible outside.\", 'They burn bright and hot!', 'Wrong bulb', 'Bright  Great bulb', 'Burn way to HOT', 'Burning bright & very low price.', 'let there be light']\n",
      "\n",
      "Cluster  26\n",
      "['Bulb was made larger than the original product and so it would not fit within the safety enclosure.  Had to be returned.', 'Bulbs would not fit into the under cabinet fixtures. The prongs were too long']\n",
      "\n",
      "Cluster  27\n",
      "['Wife loves it', 'love it', 'my daughter loved it', 'Little one loves it', 'she loves it', 'love it']\n",
      "\n",
      "Cluster  28\n",
      "['cheap made but works okay', 'Looks good and is functional.', 'Work great', 'Works great!  Looks great!', 'works perfect', 'Works well.', 'Works fine', 'works great', 'Works well on my Yamaha keyboard', 'Works great. Very convenient.', 'Works great.', 'Does a great job!', 'Thank you  works great and easy to use', 'Works nice but small', 'working great', 'Works great!', 'works great', 'it is ok and it works', 'Works great', 'Worked great', 'cheap works well.', 'Works Great', 'Works awesome, saved a ton of money.', 'Works great,a little pricy', 'Works great.', 'Works']\n",
      "\n"
     ]
    }
   ],
   "source": [
    "for i, cluster in enumerate(clustered_sentences):\n",
    "#     if i > 2: break\n",
    "    print(\"Cluster \", i+1)\n",
    "    print(cluster)\n",
    "    print(\"\")"
   ]
  },
  {
   "cell_type": "code",
   "execution_count": null,
   "metadata": {},
   "outputs": [],
   "source": []
  },
  {
   "cell_type": "markdown",
   "metadata": {},
   "source": [
    "## Zero-Shot Classification"
   ]
  },
  {
   "cell_type": "code",
   "execution_count": 17,
   "metadata": {},
   "outputs": [
    {
     "name": "stderr",
     "output_type": "stream",
     "text": [
      "Some weights of the model checkpoint at facebook/bart-large-mnli were not used when initializing BartModel: ['model.encoder.version', 'model.decoder.version']\n",
      "- This IS expected if you are initializing BartModel from the checkpoint of a model trained on another task or with another architecture (e.g. initializing a BertForSequenceClassification model from a BertForPreTraining model).\n",
      "- This IS NOT expected if you are initializing BartModel from the checkpoint of a model that you expect to be exactly identical (initializing a BertForSequenceClassification model from a BertForSequenceClassification model).\n",
      "Some weights of the model checkpoint at facebook/bart-large-mnli were not used when initializing BartForSequenceClassification: ['model.encoder.version', 'model.decoder.version']\n",
      "- This IS expected if you are initializing BartForSequenceClassification from the checkpoint of a model trained on another task or with another architecture (e.g. initializing a BertForSequenceClassification model from a BertForPreTraining model).\n",
      "- This IS NOT expected if you are initializing BartForSequenceClassification from the checkpoint of a model that you expect to be exactly identical (initializing a BertForSequenceClassification model from a BertForSequenceClassification model).\n"
     ]
    }
   ],
   "source": [
    "from transformers import pipeline\n",
    "classifier = pipeline(\"zero-shot-classification\", model=\"facebook/bart-large-mnli\")"
   ]
  },
  {
   "cell_type": "markdown",
   "metadata": {},
   "source": [
    "The warning is telling us we are throwing away some weights (the vocab_transform and vocab_layer_norm layers) and randomly initializing some other (the pre_classifier and classifier layers). This is absolutely normal in this case, because we are removing the head used to pretrain the model on a masked language modeling objective and replacing it with a new head for which we don't have pretrained weights, so the library warns us we should fine-tune this model before using it for inference, which is exactly what we are going to do."
   ]
  },
  {
   "cell_type": "code",
   "execution_count": 20,
   "metadata": {},
   "outputs": [
    {
     "data": {
      "text/plain": [
       "{'sequence': 'Keeps the mist of your wood trim and on you. Bendable too.',\n",
       " 'labels': ['useful',\n",
       "  'effective',\n",
       "  'convenient',\n",
       "  'durable',\n",
       "  'efficient',\n",
       "  'lasting',\n",
       "  'feature',\n",
       "  'sturdy',\n",
       "  'flexible',\n",
       "  'fit',\n",
       "  'quality',\n",
       "  'sound',\n",
       "  'portable',\n",
       "  'style',\n",
       "  'setting',\n",
       "  'design',\n",
       "  'display',\n",
       "  'elegant',\n",
       "  'size',\n",
       "  'beauty',\n",
       "  'material',\n",
       "  'texture',\n",
       "  'bright',\n",
       "  'install',\n",
       "  'warranty',\n",
       "  'color',\n",
       "  'price',\n",
       "  'easy'],\n",
       " 'scores': [0.14417190849781036,\n",
       "  0.13556835055351257,\n",
       "  0.09085024148225784,\n",
       "  0.05804915726184845,\n",
       "  0.0545324869453907,\n",
       "  0.05263342335820198,\n",
       "  0.04637948423624039,\n",
       "  0.04562646523118019,\n",
       "  0.045600395649671555,\n",
       "  0.04559176415205002,\n",
       "  0.04240129142999649,\n",
       "  0.03137057274580002,\n",
       "  0.030001936480402946,\n",
       "  0.029940489679574966,\n",
       "  0.02437846176326275,\n",
       "  0.018749482929706573,\n",
       "  0.017612097784876823,\n",
       "  0.01677836664021015,\n",
       "  0.012511210516095161,\n",
       "  0.01239504013210535,\n",
       "  0.011936400085687637,\n",
       "  0.008958389051258564,\n",
       "  0.005489616189152002,\n",
       "  0.005420157685875893,\n",
       "  0.004529707133769989,\n",
       "  0.004396278411149979,\n",
       "  0.00259565026499331,\n",
       "  0.001531341695226729]}"
      ]
     },
     "execution_count": 20,
     "metadata": {},
     "output_type": "execute_result"
    }
   ],
   "source": [
    "# sequence_to_classify = \"one day I will see the world\"\n",
    "sequence_to_classify = \"Keeps the mist of your wood trim and on you. Bendable too.\"\n",
    "# candidate_labels = ['travel', 'cooking', 'dancing']\n",
    "candidate_labels = ['fit', 'price', 'quality', 'design', 'feature', 'beauty', 'portable', 'bright', 'convenient', \n",
    "                    'useful', 'effective', 'easy', 'setting', 'size', 'warranty', 'color', 'sound', 'display', \n",
    "                    'install', 'efficient', 'durable', 'elegant', 'style', 'material', 'flexible', 'texture', \n",
    "                    'sturdy', 'lasting']\n",
    "classifier(sequence_to_classify, candidate_labels)\n",
    "#{'labels': ['travel', 'dancing', 'cooking'],\n",
    "# 'scores': [0.9938651323318481, 0.0032737774308770895, 0.002861034357920289],\n",
    "# 'sequence': 'one day I will see the world'}"
   ]
  },
  {
   "cell_type": "code",
   "execution_count": 6,
   "metadata": {},
   "outputs": [],
   "source": [
    "# candidate_labels = ['travel', 'cooking', 'dancing', 'exploration']\n",
    "#classifier(sequence_to_classify, candidate_labels, multi_class=True)\n",
    "# {'labels': ['travel', 'exploration', 'dancing', 'cooking'],\n",
    "# 'scores': [0.9945111274719238,\n",
    "#  0.9383890628814697,\n",
    "#  0.0057061901316046715,\n",
    "#  0.0018193122232332826],\n",
    "# 'sequence': 'one day I will see the world'}"
   ]
  },
  {
   "cell_type": "code",
   "execution_count": null,
   "metadata": {},
   "outputs": [],
   "source": []
  }
 ],
 "metadata": {
  "kernelspec": {
   "display_name": "Python 3",
   "language": "python",
   "name": "python3"
  },
  "language_info": {
   "codemirror_mode": {
    "name": "ipython",
    "version": 3
   },
   "file_extension": ".py",
   "mimetype": "text/x-python",
   "name": "python",
   "nbconvert_exporter": "python",
   "pygments_lexer": "ipython3",
   "version": "3.8.5"
  },
  "toc": {
   "base_numbering": "1.",
   "nav_menu": {},
   "number_sections": true,
   "sideBar": true,
   "skip_h1_title": true,
   "title_cell": "Table of Contents",
   "title_sidebar": "Contents",
   "toc_cell": true,
   "toc_position": {},
   "toc_section_display": true,
   "toc_window_display": false
  },
  "varInspector": {
   "cols": {
    "lenName": 16,
    "lenType": 16,
    "lenVar": 40
   },
   "kernels_config": {
    "python": {
     "delete_cmd_postfix": "",
     "delete_cmd_prefix": "del ",
     "library": "var_list.py",
     "varRefreshCmd": "print(var_dic_list())"
    },
    "r": {
     "delete_cmd_postfix": ") ",
     "delete_cmd_prefix": "rm(",
     "library": "var_list.r",
     "varRefreshCmd": "cat(var_dic_list()) "
    }
   },
   "types_to_exclude": [
    "module",
    "function",
    "builtin_function_or_method",
    "instance",
    "_Feature"
   ],
   "window_display": false
  }
 },
 "nbformat": 4,
 "nbformat_minor": 4
}
