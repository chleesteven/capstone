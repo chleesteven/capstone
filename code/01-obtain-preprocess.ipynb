{
 "cells": [
  {
   "cell_type": "markdown",
   "metadata": {},
   "source": [
    "# Capstone Project: Amazon Review Classification (Part 1)\n",
    "Author: **Steven Lee**"
   ]
  },
  {
   "cell_type": "markdown",
   "metadata": {},
   "source": [
    "# Categorizing Amazon Reviews"
   ]
  },
  {
   "cell_type": "markdown",
   "metadata": {},
   "source": [
    "User reviews on products and services can often provide potentially valuable feedback to sellers and service providers on various business related areas.  At the very least, for instance, the reviews could signal potential problems with the manufacture of goods, a dip in the quality of services, or some issue with deliveries.  Additionally, they could also provide business owners with useful ideas on how to improve products and services.  Above that, they could even sometimes help generate ideas of new products or services that are in demand.\n",
    "\n",
    "The goal is to build a classification model to categorize reviews into meaningful multi-classes, and help inform on the multiple product aspects that customers find below par, meet expectations or lacking in certain regards.  This new model would have an Accuracy score above 85%.  Models included for comparison will include, Naive Bayes, Random Forest and Neural Networks.\n",
    "\n",
    "Sentiment analysis merely attempts to see if a review is positive or negative.  While this is helpful, it only tells business owners the proportion of buyers who were happy or unsatisfied with their purchases.  This model will help the business owner gain more meaningful insights about their products."
   ]
  },
  {
   "cell_type": "markdown",
   "metadata": {
    "toc": true
   },
   "source": [
    "<h1>Table of Contents<span class=\"tocSkip\"></span></h1>\n",
    "<div class=\"toc\"><ul class=\"toc-item\"><li><span><a href=\"#Import-Data\" data-toc-modified-id=\"Import-Data-1\">Import Data</a></span></li><li><span><a href=\"#Inspect-and-Clean-Data\" data-toc-modified-id=\"Inspect-and-Clean-Data-2\">Inspect and Clean Data</a></span></li><li><span><a href=\"#Prepare-Bag-of-Words\" data-toc-modified-id=\"Prepare-Bag-of-Words-3\">Prepare Bag of Words</a></span></li><li><span><a href=\"#Save-Clean-Data-to-File\" data-toc-modified-id=\"Save-Clean-Data-to-File-4\">Save Clean Data to File</a></span></li></ul></div>"
   ]
  },
  {
   "cell_type": "markdown",
   "metadata": {},
   "source": [
    "## Import Data"
   ]
  },
  {
   "cell_type": "code",
   "execution_count": 1,
   "metadata": {},
   "outputs": [],
   "source": [
    "# Import required libraries.\n",
    "import numpy as np\n",
    "import pandas as pd\n",
    "import gzip\n",
    "import json\n",
    "\n",
    "# Set pandas display options.\n",
    "pd.set_option('display.max_columns', 500)\n",
    "pd.set_option('display.max_colwidth', 200)\n",
    "\n",
    "from random import sample\n",
    "\n",
    "# Import Tokenizer, Lemmatizer and stop words.\n",
    "from tensorflow.keras.preprocessing.text import text_to_word_sequence\n",
    "from nltk.stem import WordNetLemmatizer\n",
    "from nltk.corpus import stopwords"
   ]
  },
  {
   "cell_type": "markdown",
   "metadata": {},
   "source": [
    "The following datasets are [updated versions](https://nijianmo.github.io/amazon/index.html) of the 2014 released Amazon review dataset.  For this project, the scope will be limited only to reviews for products under the **Tools and Home Improvement** main category.  I will also be using the smaller subset of the review data (roughly 2 mil.), which is extracted from the main data of greater than 9 mil. reviews.  The product meta data is included here to see if it can be merged with the final named entities to provide enhanced insights."
   ]
  },
  {
   "cell_type": "code",
   "execution_count": 2,
   "metadata": {},
   "outputs": [],
   "source": [
    "# Read in review and product datasets.\n",
    "review_data = \"../data/Tools_and_Home_Improvement_5.json.gz\"\n",
    "product_data = \"../data/meta_Tools_and_Home_Improvement.json.gz\""
   ]
  },
  {
   "cell_type": "code",
   "execution_count": 3,
   "metadata": {},
   "outputs": [],
   "source": [
    "def parse(path):\n",
    "    g = gzip.open(path, 'rb')\n",
    "    for l in g:\n",
    "        yield json.loads(l)\n",
    "\n",
    "def getDF(path):\n",
    "    i = 0\n",
    "    df = {}\n",
    "    for d in parse(path):\n",
    "        df[i] = d\n",
    "        i += 1\n",
    "    return pd.DataFrame.from_dict(df, orient='index')"
   ]
  },
  {
   "cell_type": "code",
   "execution_count": 4,
   "metadata": {},
   "outputs": [
    {
     "name": "stdout",
     "output_type": "stream",
     "text": [
      "Wall time: 27.4 s\n"
     ]
    },
    {
     "data": {
      "text/html": [
       "<div>\n",
       "<style scoped>\n",
       "    .dataframe tbody tr th:only-of-type {\n",
       "        vertical-align: middle;\n",
       "    }\n",
       "\n",
       "    .dataframe tbody tr th {\n",
       "        vertical-align: top;\n",
       "    }\n",
       "\n",
       "    .dataframe thead th {\n",
       "        text-align: right;\n",
       "    }\n",
       "</style>\n",
       "<table border=\"1\" class=\"dataframe\">\n",
       "  <thead>\n",
       "    <tr style=\"text-align: right;\">\n",
       "      <th></th>\n",
       "      <th>overall</th>\n",
       "      <th>verified</th>\n",
       "      <th>reviewTime</th>\n",
       "      <th>reviewerID</th>\n",
       "      <th>asin</th>\n",
       "      <th>style</th>\n",
       "      <th>reviewerName</th>\n",
       "      <th>reviewText</th>\n",
       "      <th>summary</th>\n",
       "      <th>unixReviewTime</th>\n",
       "      <th>vote</th>\n",
       "      <th>image</th>\n",
       "    </tr>\n",
       "  </thead>\n",
       "  <tbody>\n",
       "    <tr>\n",
       "      <th>0</th>\n",
       "      <td>5.0</td>\n",
       "      <td>True</td>\n",
       "      <td>01 28, 2018</td>\n",
       "      <td>AL19QO4XLBQPU</td>\n",
       "      <td>0982085028</td>\n",
       "      <td>{'Style:': ' 1) IR30 POU (30A/3.4kW/110v)'}</td>\n",
       "      <td>J. Mollenkamp</td>\n",
       "      <td>returned, decided against this product</td>\n",
       "      <td>Five Stars</td>\n",
       "      <td>1517097600</td>\n",
       "      <td>NaN</td>\n",
       "      <td>NaN</td>\n",
       "    </tr>\n",
       "    <tr>\n",
       "      <th>1</th>\n",
       "      <td>5.0</td>\n",
       "      <td>True</td>\n",
       "      <td>11 30, 2017</td>\n",
       "      <td>A1I7CVB7X3T81E</td>\n",
       "      <td>0982085028</td>\n",
       "      <td>{'Style:': ' 3) IR260 POU (30A/6kW/220v)'}</td>\n",
       "      <td>warfam</td>\n",
       "      <td>Awesome heater for the electrical requirements! Makes an awesome preheater for my talnkless system</td>\n",
       "      <td>Five Stars</td>\n",
       "      <td>1512000000</td>\n",
       "      <td>NaN</td>\n",
       "      <td>NaN</td>\n",
       "    </tr>\n",
       "    <tr>\n",
       "      <th>2</th>\n",
       "      <td>5.0</td>\n",
       "      <td>True</td>\n",
       "      <td>09 12, 2017</td>\n",
       "      <td>A1AQXO4P5U674E</td>\n",
       "      <td>0982085028</td>\n",
       "      <td>{'Style:': ' Style64'}</td>\n",
       "      <td>gbieber2</td>\n",
       "      <td>Keeps the mist of your wood trim and on you. Bendable too.</td>\n",
       "      <td>Five Stars</td>\n",
       "      <td>1505174400</td>\n",
       "      <td>NaN</td>\n",
       "      <td>NaN</td>\n",
       "    </tr>\n",
       "  </tbody>\n",
       "</table>\n",
       "</div>"
      ],
      "text/plain": [
       "   overall  verified   reviewTime      reviewerID        asin  \\\n",
       "0      5.0      True  01 28, 2018   AL19QO4XLBQPU  0982085028   \n",
       "1      5.0      True  11 30, 2017  A1I7CVB7X3T81E  0982085028   \n",
       "2      5.0      True  09 12, 2017  A1AQXO4P5U674E  0982085028   \n",
       "\n",
       "                                         style   reviewerName  \\\n",
       "0  {'Style:': ' 1) IR30 POU (30A/3.4kW/110v)'}  J. Mollenkamp   \n",
       "1   {'Style:': ' 3) IR260 POU (30A/6kW/220v)'}         warfam   \n",
       "2                       {'Style:': ' Style64'}       gbieber2   \n",
       "\n",
       "                                                                                           reviewText  \\\n",
       "0                                                              returned, decided against this product   \n",
       "1  Awesome heater for the electrical requirements! Makes an awesome preheater for my talnkless system   \n",
       "2                                          Keeps the mist of your wood trim and on you. Bendable too.   \n",
       "\n",
       "      summary  unixReviewTime vote image  \n",
       "0  Five Stars      1517097600  NaN   NaN  \n",
       "1  Five Stars      1512000000  NaN   NaN  \n",
       "2  Five Stars      1505174400  NaN   NaN  "
      ]
     },
     "execution_count": 4,
     "metadata": {},
     "output_type": "execute_result"
    }
   ],
   "source": [
    "%%time\n",
    "\n",
    "reviews = getDF(review_data)\n",
    "reviews.head(3)"
   ]
  },
  {
   "cell_type": "code",
   "execution_count": 5,
   "metadata": {},
   "outputs": [
    {
     "name": "stdout",
     "output_type": "stream",
     "text": [
      "Wall time: 1min 59s\n"
     ]
    },
    {
     "data": {
      "text/html": [
       "<div>\n",
       "<style scoped>\n",
       "    .dataframe tbody tr th:only-of-type {\n",
       "        vertical-align: middle;\n",
       "    }\n",
       "\n",
       "    .dataframe tbody tr th {\n",
       "        vertical-align: top;\n",
       "    }\n",
       "\n",
       "    .dataframe thead th {\n",
       "        text-align: right;\n",
       "    }\n",
       "</style>\n",
       "<table border=\"1\" class=\"dataframe\">\n",
       "  <thead>\n",
       "    <tr style=\"text-align: right;\">\n",
       "      <th></th>\n",
       "      <th>category</th>\n",
       "      <th>tech1</th>\n",
       "      <th>description</th>\n",
       "      <th>fit</th>\n",
       "      <th>title</th>\n",
       "      <th>also_buy</th>\n",
       "      <th>image</th>\n",
       "      <th>tech2</th>\n",
       "      <th>brand</th>\n",
       "      <th>feature</th>\n",
       "      <th>rank</th>\n",
       "      <th>also_view</th>\n",
       "      <th>main_cat</th>\n",
       "      <th>similar_item</th>\n",
       "      <th>date</th>\n",
       "      <th>price</th>\n",
       "      <th>asin</th>\n",
       "      <th>details</th>\n",
       "    </tr>\n",
       "  </thead>\n",
       "  <tbody>\n",
       "    <tr>\n",
       "      <th>0</th>\n",
       "      <td>[Tools &amp; Home Improvement, Lighting &amp; Ceiling Fans, Lamps &amp; Shades, Table Lamps]</td>\n",
       "      <td></td>\n",
       "      <td>[collectible table lamp]</td>\n",
       "      <td></td>\n",
       "      <td>Everett's Cottage Table Lamp</td>\n",
       "      <td>[]</td>\n",
       "      <td>[]</td>\n",
       "      <td></td>\n",
       "      <td></td>\n",
       "      <td>[]</td>\n",
       "      <td>[&gt;#3,780,135 in Tools &amp; Home Improvement (See top 100), &gt;#45,028 in Tools &amp; Home Improvement &gt; Lighting &amp; Ceiling Fans &gt; Lamps &amp; Shades &gt; Table Lamps]</td>\n",
       "      <td>[]</td>\n",
       "      <td>Tools &amp; Home Improvement</td>\n",
       "      <td></td>\n",
       "      <td>October 30, 2010</td>\n",
       "      <td></td>\n",
       "      <td>001212835X</td>\n",
       "      <td>NaN</td>\n",
       "    </tr>\n",
       "    <tr>\n",
       "      <th>1</th>\n",
       "      <td>[Tools &amp; Home Improvement, Lighting &amp; Ceiling Fans, Novelty Lighting]</td>\n",
       "      <td>class=\"a-keyvalue prodDetTable\" role=\"presentation\"&gt;\\n         \\n           \\n           \\n           \\n           &lt;tr&gt;\\n            \\n            \\n              \\n              \\n              ...</td>\n",
       "      <td>[Fun book light! Comes with two AAA batteries and a long-lasting LED lightbulb. Makes a great gift!]</td>\n",
       "      <td></td>\n",
       "      <td>Diary of a Wimpy Kid Book Light</td>\n",
       "      <td>[]</td>\n",
       "      <td>[https://images-na.ssl-images-amazon.com/images/I/51rylQjhYLL._SX38_SY50_CR,0,0,38,50_.jpg, https://images-na.ssl-images-amazon.com/images/I/51Svo2N%2B9DL._SX38_SY50_CR,0,0,38,50_.jpg, https://ima...</td>\n",
       "      <td></td>\n",
       "      <td>Barnes &amp; Noble</td>\n",
       "      <td>[Easily clips to hardcover and paperback books, Comes with two AAA batteries, Long-lasting LED lightbulb]</td>\n",
       "      <td>[&gt;#1,074,903 in Tools &amp; Home Improvement (See top 100), &gt;#37,631 in Tools &amp; Home Improvement &gt; Lighting &amp; Ceiling Fans &gt; Novelty Lighting]</td>\n",
       "      <td>[]</td>\n",
       "      <td>Tools &amp; Home Improvement</td>\n",
       "      <td></td>\n",
       "      <td>March 9, 2013</td>\n",
       "      <td></td>\n",
       "      <td>0594510384</td>\n",
       "      <td>NaN</td>\n",
       "    </tr>\n",
       "    <tr>\n",
       "      <th>2</th>\n",
       "      <td>[Tools &amp; Home Improvement, Paint, Wall Treatments &amp; Supplies, Wall Stickers &amp; Murals]</td>\n",
       "      <td></td>\n",
       "      <td>[A fun addition to any decor, The Beatles Yellow Submarine Wall Decals feature art from the 1968 animated classic starring the Fab Four in one of their most memorable adventures. Each package incl...</td>\n",
       "      <td></td>\n",
       "      <td>Mudpuppy The Beatles Yellow Submarine Wall Decals</td>\n",
       "      <td>[1481403621, B00EMLN7PS, B077NNCBTP, B01GWKH0FO, B01FUFGEHM, 1536201464, 1785863940, B003SJK6I6, B005S9JJOG, B07BTMLNFN, B01JH1GTUW, 1786707039, B0185QMG7K, B00KCNBED2, B07DV95WN6, 0735342431, B00...</td>\n",
       "      <td>[https://images-na.ssl-images-amazon.com/images/I/51IBDcZ5tJL._SS40_.jpg]</td>\n",
       "      <td></td>\n",
       "      <td>Mudpuppy</td>\n",
       "      <td>[6 sheets of decals, Package: 11.25 x 11.25 in, Shrink wrapped]</td>\n",
       "      <td>[&gt;#105,697 in Toys &amp; Games (See Top 100 in Toys &amp; Games), &gt;#1,297 in Home &amp; Kitchen &gt; Home Dcor &gt; Home Dcor Accents &gt; Wall Stickers &amp; Murals]</td>\n",
       "      <td>[B003VYAHRI, B00EMLN7PS, B01GWKH0FO, 0735344523, B00EMLB85Y, B00OZ95GDI, B004B49A6Q, B079KCKKVP, B003SJK6I6, B00DSD5D0S, B01FUFGEHM, B077NNCBTP, B07BTMLNFN, 0735342431, B00DSD5DUI, B0799GWBQ7, B07...</td>\n",
       "      <td>Toys &amp; Games</td>\n",
       "      <td>class=\"a-bordered a-horizontal-stripes  a-spacing-extra-large a-size-base comparison_table\"&gt;\\n\\n\\n\\n            \\n            \\n            \\n            \\n            \\n            &lt;tr class=\"co...</td>\n",
       "      <td></td>\n",
       "      <td>$20.52</td>\n",
       "      <td>0735342989</td>\n",
       "      <td>NaN</td>\n",
       "    </tr>\n",
       "  </tbody>\n",
       "</table>\n",
       "</div>"
      ],
      "text/plain": [
       "                                                                                category  \\\n",
       "0       [Tools & Home Improvement, Lighting & Ceiling Fans, Lamps & Shades, Table Lamps]   \n",
       "1                  [Tools & Home Improvement, Lighting & Ceiling Fans, Novelty Lighting]   \n",
       "2  [Tools & Home Improvement, Paint, Wall Treatments & Supplies, Wall Stickers & Murals]   \n",
       "\n",
       "                                                                                                                                                                                                     tech1  \\\n",
       "0                                                                                                                                                                                                            \n",
       "1   class=\"a-keyvalue prodDetTable\" role=\"presentation\">\\n         \\n           \\n           \\n           \\n           <tr>\\n            \\n            \\n              \\n              \\n              ...   \n",
       "2                                                                                                                                                                                                            \n",
       "\n",
       "                                                                                                                                                                                               description  \\\n",
       "0                                                                                                                                                                                 [collectible table lamp]   \n",
       "1                                                                                                     [Fun book light! Comes with two AAA batteries and a long-lasting LED lightbulb. Makes a great gift!]   \n",
       "2  [A fun addition to any decor, The Beatles Yellow Submarine Wall Decals feature art from the 1968 animated classic starring the Fab Four in one of their most memorable adventures. Each package incl...   \n",
       "\n",
       "  fit                                              title  \\\n",
       "0                           Everett's Cottage Table Lamp   \n",
       "1                        Diary of a Wimpy Kid Book Light   \n",
       "2      Mudpuppy The Beatles Yellow Submarine Wall Decals   \n",
       "\n",
       "                                                                                                                                                                                                  also_buy  \\\n",
       "0                                                                                                                                                                                                       []   \n",
       "1                                                                                                                                                                                                       []   \n",
       "2  [1481403621, B00EMLN7PS, B077NNCBTP, B01GWKH0FO, B01FUFGEHM, 1536201464, 1785863940, B003SJK6I6, B005S9JJOG, B07BTMLNFN, B01JH1GTUW, 1786707039, B0185QMG7K, B00KCNBED2, B07DV95WN6, 0735342431, B00...   \n",
       "\n",
       "                                                                                                                                                                                                     image  \\\n",
       "0                                                                                                                                                                                                       []   \n",
       "1  [https://images-na.ssl-images-amazon.com/images/I/51rylQjhYLL._SX38_SY50_CR,0,0,38,50_.jpg, https://images-na.ssl-images-amazon.com/images/I/51Svo2N%2B9DL._SX38_SY50_CR,0,0,38,50_.jpg, https://ima...   \n",
       "2                                                                                                                                [https://images-na.ssl-images-amazon.com/images/I/51IBDcZ5tJL._SS40_.jpg]   \n",
       "\n",
       "  tech2           brand  \\\n",
       "0                         \n",
       "1        Barnes & Noble   \n",
       "2              Mudpuppy   \n",
       "\n",
       "                                                                                                     feature  \\\n",
       "0                                                                                                         []   \n",
       "1  [Easily clips to hardcover and paperback books, Comes with two AAA batteries, Long-lasting LED lightbulb]   \n",
       "2                                            [6 sheets of decals, Package: 11.25 x 11.25 in, Shrink wrapped]   \n",
       "\n",
       "                                                                                                                                                     rank  \\\n",
       "0  [>#3,780,135 in Tools & Home Improvement (See top 100), >#45,028 in Tools & Home Improvement > Lighting & Ceiling Fans > Lamps & Shades > Table Lamps]   \n",
       "1              [>#1,074,903 in Tools & Home Improvement (See top 100), >#37,631 in Tools & Home Improvement > Lighting & Ceiling Fans > Novelty Lighting]   \n",
       "2           [>#105,697 in Toys & Games (See Top 100 in Toys & Games), >#1,297 in Home & Kitchen > Home Dcor > Home Dcor Accents > Wall Stickers & Murals]   \n",
       "\n",
       "                                                                                                                                                                                                 also_view  \\\n",
       "0                                                                                                                                                                                                       []   \n",
       "1                                                                                                                                                                                                       []   \n",
       "2  [B003VYAHRI, B00EMLN7PS, B01GWKH0FO, 0735344523, B00EMLB85Y, B00OZ95GDI, B004B49A6Q, B079KCKKVP, B003SJK6I6, B00DSD5D0S, B01FUFGEHM, B077NNCBTP, B07BTMLNFN, 0735342431, B00DSD5DUI, B0799GWBQ7, B07...   \n",
       "\n",
       "                   main_cat  \\\n",
       "0  Tools & Home Improvement   \n",
       "1  Tools & Home Improvement   \n",
       "2              Toys & Games   \n",
       "\n",
       "                                                                                                                                                                                              similar_item  \\\n",
       "0                                                                                                                                                                                                            \n",
       "1                                                                                                                                                                                                            \n",
       "2   class=\"a-bordered a-horizontal-stripes  a-spacing-extra-large a-size-base comparison_table\">\\n\\n\\n\\n            \\n            \\n            \\n            \\n            \\n            <tr class=\"co...   \n",
       "\n",
       "               date   price        asin details  \n",
       "0  October 30, 2010          001212835X     NaN  \n",
       "1     March 9, 2013          0594510384     NaN  \n",
       "2                    $20.52  0735342989     NaN  "
      ]
     },
     "execution_count": 5,
     "metadata": {},
     "output_type": "execute_result"
    }
   ],
   "source": [
    "%%time\n",
    "\n",
    "products = getDF(product_data)\n",
    "products.head(3)"
   ]
  },
  {
   "cell_type": "code",
   "execution_count": 6,
   "metadata": {},
   "outputs": [
    {
     "data": {
      "text/plain": [
       "((2070831, 12), (571535, 18))"
      ]
     },
     "execution_count": 6,
     "metadata": {},
     "output_type": "execute_result"
    }
   ],
   "source": [
    "# Check number of records and columns.\n",
    "reviews.shape, products.shape"
   ]
  },
  {
   "cell_type": "code",
   "execution_count": 7,
   "metadata": {},
   "outputs": [
    {
     "name": "stdout",
     "output_type": "stream",
     "text": [
      "<class 'pandas.core.frame.DataFrame'>\n",
      "Int64Index: 2070831 entries, 0 to 2070830\n",
      "Data columns (total 12 columns):\n",
      " #   Column          Dtype  \n",
      "---  ------          -----  \n",
      " 0   overall         float64\n",
      " 1   verified        bool   \n",
      " 2   reviewTime      object \n",
      " 3   reviewerID      object \n",
      " 4   asin            object \n",
      " 5   style           object \n",
      " 6   reviewerName    object \n",
      " 7   reviewText      object \n",
      " 8   summary         object \n",
      " 9   unixReviewTime  int64  \n",
      " 10  vote            object \n",
      " 11  image           object \n",
      "dtypes: bool(1), float64(1), int64(1), object(9)\n",
      "memory usage: 191.6+ MB\n"
     ]
    }
   ],
   "source": [
    "# Check for data types and nulls.\n",
    "reviews.info()"
   ]
  },
  {
   "cell_type": "code",
   "execution_count": 8,
   "metadata": {},
   "outputs": [
    {
     "name": "stdout",
     "output_type": "stream",
     "text": [
      "<class 'pandas.core.frame.DataFrame'>\n",
      "Int64Index: 571535 entries, 0 to 571534\n",
      "Data columns (total 18 columns):\n",
      " #   Column        Non-Null Count   Dtype \n",
      "---  ------        --------------   ----- \n",
      " 0   category      571535 non-null  object\n",
      " 1   tech1         571535 non-null  object\n",
      " 2   description   571535 non-null  object\n",
      " 3   fit           571535 non-null  object\n",
      " 4   title         571535 non-null  object\n",
      " 5   also_buy      571535 non-null  object\n",
      " 6   image         571535 non-null  object\n",
      " 7   tech2         571535 non-null  object\n",
      " 8   brand         571535 non-null  object\n",
      " 9   feature       571535 non-null  object\n",
      " 10  rank          571535 non-null  object\n",
      " 11  also_view     571535 non-null  object\n",
      " 12  main_cat      571535 non-null  object\n",
      " 13  similar_item  571535 non-null  object\n",
      " 14  date          571535 non-null  object\n",
      " 15  price         571535 non-null  object\n",
      " 16  asin          571535 non-null  object\n",
      " 17  details       571444 non-null  object\n",
      "dtypes: object(18)\n",
      "memory usage: 82.8+ MB\n"
     ]
    }
   ],
   "source": [
    "# Check for data types and nulls.\n",
    "products.info()"
   ]
  },
  {
   "cell_type": "markdown",
   "metadata": {},
   "source": [
    "## Inspect and Clean Data"
   ]
  },
  {
   "cell_type": "markdown",
   "metadata": {},
   "source": [
    "|Required|Feature|Type|Description|\n",
    "|:--|:--|:--|:--|\n",
    "|o|`overall`|float|Rating of the product|\n",
    "|x|`verified`|object|If review has been verified|\n",
    "|x|`reviewTime`|object|Time of the review (raw)|\n",
    "|x|`reviewerID`|object|ID of the reviewer e.g. A2SUAM1J3GNN3B|\n",
    "|o|`asin`|object|ID of the product e.g. 0000013714|\n",
    "|x|`style`|object|Dictionary of the product metadata e.g. \"Format\" is \"Hardcover\"|\n",
    "|x|`reviewerName`|object|Name of the reviewer|\n",
    "|o|`reviewText`|object|Text of the review|\n",
    "|o|`summary`|float|Summary of the review|\n",
    "|x|`unixReviewTime`|integer|Time of the review (unix time)|\n",
    "|o|`vote`|object|Helpful votes of the review|\n",
    "|x|`image`|object|Images that users post after they have received the product|"
   ]
  },
  {
   "cell_type": "markdown",
   "metadata": {},
   "source": [
    "|Required|Feature|Type|Description|\n",
    "|:--|:--|:--|:--|\n",
    "|x|`category`|object|List of categories the product belongs to|\n",
    "|x|`tech1`|object|First technical detail table of the product|\n",
    "|o|`description`|object|Description of the product|\n",
    "|x|`fit`|object||\n",
    "|o|`title`|object|Name of the product|\n",
    "|x|`also_buy`|object|Related products (also bought, also viewed, bought together, buy after viewing)|\n",
    "|x|`image`|object|url of the product image|\n",
    "|x|`tech2`|object|Second technical detail table of the product|\n",
    "|o|`brand`|object|Brand name|\n",
    "|o|`feature`|object|Bullet-point format features of the product|\n",
    "|o|`rank`|object|Sales rank information|\n",
    "|x|`also_view`|object|images that users post after they have received the product|\n",
    "|o|`main_cat`|object|Main category of the product|\n",
    "|x|`similar_item`|object|similar product table|\n",
    "|x|`date`|object|Date|\n",
    "|o|`price`|object|Price in US dollars (at time of crawl)|\n",
    "|o|`asin`|object|ID of the product, e.g. 0000031852|\n",
    "|x|`details`|object|images that users post after they have received the product|"
   ]
  },
  {
   "cell_type": "code",
   "execution_count": 9,
   "metadata": {},
   "outputs": [],
   "source": [
    "# Identify unwanted columns in both dataframes for dropping.\n",
    "unwanted_rev_cols = ['verified', 'reviewTime', 'reviewerID', 'style', 'reviewerName', 'unixReviewTime', 'image']\n",
    "unwanted_pdt_cols = ['category', 'tech1', 'fit', 'also_buy', 'image', 'tech2', 'also_view', 'similar_item', 'date', 'details']"
   ]
  },
  {
   "cell_type": "code",
   "execution_count": 10,
   "metadata": {},
   "outputs": [
    {
     "data": {
      "text/plain": [
       "(2070831, 12)"
      ]
     },
     "execution_count": 10,
     "metadata": {},
     "output_type": "execute_result"
    }
   ],
   "source": [
    "reviews.shape"
   ]
  },
  {
   "cell_type": "code",
   "execution_count": 11,
   "metadata": {},
   "outputs": [
    {
     "name": "stdout",
     "output_type": "stream",
     "text": [
      "reviewText    Works flawlessly and provides a nice light for the closet.  I love the USB recharging.  One star downgrade because I don't think the batteries last long enough on a charge.  We open that closet ma...\n",
      "Name: 1641303, dtype: object \n",
      "\n",
      "reviewText    A thousand times better than the ones my work provide. The adjustable strap is thin but stays well, and it is well worth buying these for the comfort vs other brands of safety glasses. I can wear ...\n",
      "Name: 145296, dtype: object \n",
      "\n",
      "reviewText    Excellent\n",
      "Name: 343418, dtype: object \n",
      "\n",
      "reviewText    Worked great!\n",
      "Name: 204868, dtype: object \n",
      "\n",
      "reviewText    nice for MANY applications, very well made, but that is to be expected with Klein at the helm.\n",
      "Name: 1418134, dtype: object \n",
      "\n",
      "reviewText    finally my led won't flicker at lower output\n",
      "Name: 1103105, dtype: object \n",
      "\n",
      "reviewText    Like the idea but some reviews kept me from buying this save your money i used the plastic box that bob evens mashed potatoes came in this winter to cover my power plugs in rain/snow with some cla...\n",
      "Name: 720683, dtype: object \n",
      "\n",
      "reviewText    Love, love, love these timers. Simple, effective, robust......make sure you get a 30 or 60 minute. 15 minute ones are a pain to crank all the way around all the time.\n",
      "Name: 21879, dtype: object \n",
      "\n",
      "reviewText    Well made\n",
      "Name: 800210, dtype: object \n",
      "\n",
      "reviewText    Item just as described, fast shipping, Thank You\n",
      "Name: 1067596, dtype: object \n",
      "\n"
     ]
    }
   ],
   "source": [
    "# Examine the various data columns to better understand the data.\n",
    "randomlist = sample(range(reviews.shape[0]), 10)\n",
    "for i in randomlist:\n",
    "    print(reviews.loc[i, ['reviewText']], \"\\n\")"
   ]
  },
  {
   "cell_type": "code",
   "execution_count": 12,
   "metadata": {},
   "outputs": [
    {
     "data": {
      "text/plain": [
       "overall           100252\n",
       "verified          100252\n",
       "reviewTime        100252\n",
       "reviewerID        100252\n",
       "asin              100252\n",
       "style              57427\n",
       "reviewerName      100243\n",
       "reviewText        100238\n",
       "summary           100244\n",
       "unixReviewTime    100252\n",
       "vote               14568\n",
       "image               1293\n",
       "dtype: int64"
      ]
     },
     "execution_count": 12,
     "metadata": {},
     "output_type": "execute_result"
    }
   ],
   "source": [
    "# Check for duplicate reviews e.g. same reviewer, same product, same review and same summary.\n",
    "reviews[reviews.duplicated(subset=['reviewerID', 'reviewerName', 'asin', 'reviewText', 'summary'])].count()"
   ]
  },
  {
   "cell_type": "code",
   "execution_count": 13,
   "metadata": {},
   "outputs": [],
   "source": [
    "# Drop duplicate reviews e.g. same reviewer, same product, same review and same summary.\n",
    "reviews.drop_duplicates(subset=['reviewerID', 'reviewerName', 'asin', 'reviewText', 'summary'], inplace=True)"
   ]
  },
  {
   "cell_type": "code",
   "execution_count": 14,
   "metadata": {},
   "outputs": [
    {
     "data": {
      "text/plain": [
       "True     1809779\n",
       "False     160800\n",
       "Name: verified, dtype: int64"
      ]
     },
     "execution_count": 14,
     "metadata": {},
     "output_type": "execute_result"
    }
   ],
   "source": [
    "# Check count of verified reviews.\n",
    "reviews['verified'].value_counts()"
   ]
  },
  {
   "cell_type": "code",
   "execution_count": 15,
   "metadata": {},
   "outputs": [
    {
     "data": {
      "text/plain": [
       "(508, 271)"
      ]
     },
     "execution_count": 15,
     "metadata": {},
     "output_type": "execute_result"
    }
   ],
   "source": [
    "# Check for null reviewText and summary values.\n",
    "reviews['reviewText'].isnull().sum(), reviews['summary'].isnull().sum()"
   ]
  },
  {
   "cell_type": "code",
   "execution_count": 16,
   "metadata": {},
   "outputs": [
    {
     "data": {
      "text/plain": [
       "overall           30\n",
       "verified          30\n",
       "reviewTime        30\n",
       "reviewerID        30\n",
       "asin              30\n",
       "style             18\n",
       "reviewerName      30\n",
       "reviewText         0\n",
       "summary            0\n",
       "unixReviewTime    30\n",
       "vote               0\n",
       "image              0\n",
       "dtype: int64"
      ]
     },
     "execution_count": 16,
     "metadata": {},
     "output_type": "execute_result"
    }
   ],
   "source": [
    "# Check for records with both null summary and reviewText.  These records will be dropped.\n",
    "reviews[reviews['summary'].isnull() & reviews['reviewText'].isnull()].count()"
   ]
  },
  {
   "cell_type": "code",
   "execution_count": 17,
   "metadata": {},
   "outputs": [],
   "source": [
    "# Drop rows with both null summary and reviewText.\n",
    "reviews.drop(reviews[reviews['summary'].isnull() & reviews['reviewText'].isnull()].index, inplace=True)"
   ]
  },
  {
   "cell_type": "code",
   "execution_count": 18,
   "metadata": {},
   "outputs": [
    {
     "data": {
      "text/plain": [
       "overall           478\n",
       "verified          478\n",
       "reviewTime        478\n",
       "reviewerID        478\n",
       "asin              478\n",
       "style             252\n",
       "reviewerName      478\n",
       "reviewText          0\n",
       "summary           478\n",
       "unixReviewTime    478\n",
       "vote               54\n",
       "image             123\n",
       "dtype: int64"
      ]
     },
     "execution_count": 18,
     "metadata": {},
     "output_type": "execute_result"
    }
   ],
   "source": [
    "# Check for records with null reviewText but summary has data.\n",
    "reviews[reviews['reviewText'].isnull() & ~reviews['summary'].isnull()].count()"
   ]
  },
  {
   "cell_type": "code",
   "execution_count": 19,
   "metadata": {},
   "outputs": [
    {
     "data": {
      "text/plain": [
       "overall           426\n",
       "verified          426\n",
       "reviewTime        426\n",
       "reviewerID        426\n",
       "asin              426\n",
       "style             221\n",
       "reviewerName      426\n",
       "reviewText          0\n",
       "summary           426\n",
       "unixReviewTime    426\n",
       "vote               34\n",
       "image              82\n",
       "dtype: int64"
      ]
     },
     "execution_count": 19,
     "metadata": {},
     "output_type": "execute_result"
    }
   ],
   "source": [
    "# Check for records with null reviewText and where summary is only rating information.\n",
    "reviews[reviews['reviewText'].isnull() & ~reviews['summary'].isnull() & ((reviews['summary'].str.lower() == \"five stars\") \n",
    "        | (reviews['summary'].str.lower() == \"four stars\") | (reviews['summary'].str.lower() == \"three stars\") \n",
    "        | (reviews['summary'].str.lower() == \"two stars\") | (reviews['summary'].str.lower() == \"one star\"))].count()"
   ]
  },
  {
   "cell_type": "code",
   "execution_count": 20,
   "metadata": {},
   "outputs": [],
   "source": [
    "# Drop rows with null reviewText and where summary is only rating information.\n",
    "reviews.drop(reviews[reviews['reviewText'].isnull() & ~reviews['summary'].isnull() \n",
    "                     & ((reviews['summary'].str.lower() == \"five stars\") | (reviews['summary'].str.lower() == \"four stars\")\n",
    "                     | (reviews['summary'].str.lower() == \"three stars\") | (reviews['summary'].str.lower() == \"two stars\") \n",
    "                     | (reviews['summary'].str.lower() == \"one star\"))].index, inplace=True)"
   ]
  },
  {
   "cell_type": "code",
   "execution_count": 21,
   "metadata": {},
   "outputs": [
    {
     "data": {
      "text/plain": [
       "overall           1482487\n",
       "verified          1482487\n",
       "reviewTime        1482487\n",
       "reviewerID        1482487\n",
       "asin              1482487\n",
       "style              771240\n",
       "reviewerName      1482415\n",
       "reviewText        1482487\n",
       "summary           1482487\n",
       "unixReviewTime    1482487\n",
       "vote               185085\n",
       "image               25261\n",
       "length            1482487\n",
       "dtype: int64"
      ]
     },
     "execution_count": 21,
     "metadata": {},
     "output_type": "execute_result"
    }
   ],
   "source": [
    "# Assign summary values to null reviewText.\n",
    "reviews.loc[reviews['reviewText'].isnull(), 'reviewText'] = reviews['summary']\n",
    "\n",
    "# Combine summary and reviewText into reviewText.\n",
    "# reviews.loc[~reviews['summary'].isnull(), 'reviewText'] = reviews['summary'] + \". \" + reviews['reviewText']\n",
    "\n",
    "# Assign remaining null summary values with fullstops.\n",
    "reviews['summary'] = reviews['summary'].fillna(\".\")\n",
    "\n",
    "# Remove newline characters and backslash before apostrophes.\n",
    "reviews['reviewText'].replace(\"\\n\", \" \", regex=True, inplace=True)\n",
    "reviews['reviewText'].replace(\"\\'\", \"'\", regex=True, inplace=True)\n",
    "\n",
    "# Remove urls.\n",
    "# reviews[reviews['reviewText'].str.contains(\"http[s]?://(?:[a-zA-Z]|[0-9]|[$-_@.&+]|[!*\\(\\),]|(?:%[0-9a-fA-F][0-9a-fA-F]))+\", \n",
    "#                                            regex=True, case=False)]\n",
    "reviews['reviewText'].replace(\"http\\S+|www.\\S+\", \"\", regex=True, inplace=True)\n",
    "reviews['reviewText'].replace(\"[A-Za-z]+\\.com\", \"\", regex=True, inplace=True)\n",
    "\n",
    "# Create a length column to store the length of the reviewText.\n",
    "reviews['length'] = reviews['reviewText'].str.split().apply(len)\n",
    "\n",
    "# Check for count of records where length of reviewText is between 5 and 128.\n",
    "reviews[(reviews['length'] > 4) & (reviews['length'] < 129)].count()"
   ]
  },
  {
   "cell_type": "code",
   "execution_count": 22,
   "metadata": {},
   "outputs": [],
   "source": [
    "# Keep records where length of reviewText is between 5 and 128, and drop the rest.\n",
    "reviews.drop(reviews[(reviews['length'] < 5) | (reviews['length'] > 128)].index, inplace=True)"
   ]
  },
  {
   "cell_type": "code",
   "execution_count": 23,
   "metadata": {},
   "outputs": [
    {
     "data": {
      "text/plain": [
       "0          0\n",
       "1          0\n",
       "2          0\n",
       "3          0\n",
       "5          5\n",
       "          ..\n",
       "2070822    0\n",
       "2070827    0\n",
       "2070828    0\n",
       "2070829    0\n",
       "2070830    0\n",
       "Name: vote, Length: 1482487, dtype: int32"
      ]
     },
     "execution_count": 23,
     "metadata": {},
     "output_type": "execute_result"
    }
   ],
   "source": [
    "# Replace null values in vote column with zeroes.\n",
    "reviews['vote'] = reviews['vote'].fillna(0)\n",
    "\n",
    "# Replace commas used as thousands separator before converting type to integer.\n",
    "reviews['vote'].replace(\",\", \"\", regex=True, inplace=True)\n",
    "reviews['vote'].astype(int)"
   ]
  },
  {
   "cell_type": "code",
   "execution_count": 24,
   "metadata": {},
   "outputs": [
    {
     "data": {
      "text/plain": [
       "category        12195\n",
       "tech1           12195\n",
       "description     12195\n",
       "fit             12195\n",
       "title           12195\n",
       "also_buy        12195\n",
       "image           12195\n",
       "tech2           12195\n",
       "brand           12195\n",
       "feature         12195\n",
       "rank            12195\n",
       "also_view       12195\n",
       "main_cat        12195\n",
       "similar_item    12195\n",
       "date            12195\n",
       "price           12195\n",
       "asin            12195\n",
       "details         12195\n",
       "dtype: int64"
      ]
     },
     "execution_count": 24,
     "metadata": {},
     "output_type": "execute_result"
    }
   ],
   "source": [
    "# Check for duplicate products e.g. same asin, same main_cat, same brand and same title.\n",
    "products[products.duplicated(subset=['asin', 'main_cat', 'brand', 'title'])].count()"
   ]
  },
  {
   "cell_type": "code",
   "execution_count": 25,
   "metadata": {},
   "outputs": [],
   "source": [
    "# Drop duplicate products e.g. same asin, same main_cat, same brand and same title.\n",
    "products.drop_duplicates(subset=['asin', 'main_cat', 'brand', 'title'], inplace=True)"
   ]
  },
  {
   "cell_type": "code",
   "execution_count": 26,
   "metadata": {},
   "outputs": [],
   "source": [
    "# Drop unwanted columns in both tables.\n",
    "reviews.drop(unwanted_rev_cols, axis=1, inplace=True)\n",
    "products.drop(unwanted_pdt_cols, axis=1, inplace=True)"
   ]
  },
  {
   "cell_type": "code",
   "execution_count": 27,
   "metadata": {},
   "outputs": [
    {
     "data": {
      "text/plain": [
       "(1479593, 13)"
      ]
     },
     "execution_count": 27,
     "metadata": {},
     "output_type": "execute_result"
    }
   ],
   "source": [
    "# Merge both tables with inner join on asin or product Id.\n",
    "merged = pd.merge(left=reviews, right=products, on='asin')\n",
    "merged.shape"
   ]
  },
  {
   "cell_type": "code",
   "execution_count": 28,
   "metadata": {},
   "outputs": [
    {
     "data": {
      "text/plain": [
       "array(['Tools & Home Improvement', 'Office Products', 'Toys & Games',\n",
       "       'Industrial & Scientific', 'Automotive', 'Sports & Outdoors',\n",
       "       'Amazon Home',\n",
       "       '<img src=\"https://images-na.ssl-images-amazon.com/images/G/01/nav2/images/gui/amazon-fashion-store-new._CB520838675_.png\" class=\"nav-categ-image\" alt=\"AMAZON FASHION\"/>',\n",
       "       'All Electronics', 'Camera & Photo', 'Home Audio & Theater',\n",
       "       'Baby', 'Cell Phones & Accessories', 'Arts, Crafts & Sewing',\n",
       "       'Pet Supplies', 'Musical Instruments', 'All Beauty', 'Grocery',\n",
       "       'Car Electronics', 'Health & Personal Care', 'Computers', '',\n",
       "       'Video Games', 'Amazon Devices',\n",
       "       '<img src=\"https://images-na.ssl-images-amazon.com/images/G/01/digital/music/logos/amzn_music_logo_subnav._CB471835632_.png\" class=\"nav-categ-image\" alt=\"Digital Music\"/>',\n",
       "       'Appliances', 'Books', 'GPS & Navigation',\n",
       "       '<img src=\"https://images-na.ssl-images-amazon.com/images/G/01/handmade/brand/logos/2018/subnav_logo._CB502360610_.png\" class=\"nav-categ-image\" alt=\"Handmade\"/>'],\n",
       "      dtype=object)"
      ]
     },
     "execution_count": 28,
     "metadata": {},
     "output_type": "execute_result"
    }
   ],
   "source": [
    "merged['main_cat'].unique()"
   ]
  },
  {
   "cell_type": "code",
   "execution_count": 29,
   "metadata": {},
   "outputs": [],
   "source": [
    "# Cleanup main_cat values.\n",
    "merged.loc[merged['main_cat'] == '<img src=\"https://images-na.ssl-images-amazon.com/images/G/01/nav2/images/gui/amazon-fashion-store-new._CB520838675_.png\" class=\"nav-categ-image\" alt=\"AMAZON FASHION\"/>', \n",
    "           'main_cat'] = \"Amazon Fashion\"\n",
    "merged.loc[merged['main_cat'] == '<img src=\"https://images-na.ssl-images-amazon.com/images/G/01/digital/music/logos/amzn_music_logo_subnav._CB471835632_.png\" class=\"nav-categ-image\" alt=\"Digital Music\"/>', \n",
    "           'main_cat'] = \"Digital Music\"\n",
    "merged.loc[merged['main_cat'] == '<img src=\"https://images-na.ssl-images-amazon.com/images/G/01/handmade/brand/logos/2018/subnav_logo._CB502360610_.png\" class=\"nav-categ-image\" alt=\"Handmade\"/>', \n",
    "           'main_cat'] = \"Handmade\""
   ]
  },
  {
   "cell_type": "code",
   "execution_count": 30,
   "metadata": {},
   "outputs": [
    {
     "data": {
      "text/plain": [
       "overall        1294\n",
       "asin           1294\n",
       "reviewText     1294\n",
       "summary        1294\n",
       "vote           1294\n",
       "length         1294\n",
       "description    1294\n",
       "title          1294\n",
       "brand          1294\n",
       "feature        1294\n",
       "rank           1294\n",
       "main_cat       1294\n",
       "price          1294\n",
       "dtype: int64"
      ]
     },
     "execution_count": 30,
     "metadata": {},
     "output_type": "execute_result"
    }
   ],
   "source": [
    "# Check for records where main_cat is empty string.\n",
    "merged[merged['main_cat'] == \"\"].count()"
   ]
  },
  {
   "cell_type": "code",
   "execution_count": 31,
   "metadata": {},
   "outputs": [],
   "source": [
    "# Drop records where main_cat is empty string.\n",
    "merged.drop(merged[merged['main_cat'] == \"\"].index, inplace=True)"
   ]
  },
  {
   "cell_type": "code",
   "execution_count": 32,
   "metadata": {},
   "outputs": [
    {
     "data": {
      "text/plain": [
       "(1478299, 13)"
      ]
     },
     "execution_count": 32,
     "metadata": {},
     "output_type": "execute_result"
    }
   ],
   "source": [
    "# Cleanup empty brand values.\n",
    "merged.loc[merged['brand'] == \"\", 'brand'] = \"None\"\n",
    "merged.shape"
   ]
  },
  {
   "cell_type": "markdown",
   "metadata": {},
   "source": [
    "## Prepare Bag of Words"
   ]
  },
  {
   "cell_type": "code",
   "execution_count": 33,
   "metadata": {},
   "outputs": [],
   "source": [
    "# Convert list of English stop words to set.\n",
    "stop_words = stopwords.words('english')\n",
    "stop_words.extend(['from', 'subject', 're', 'edu', 'use'])\n",
    "stopwords_set = set(stop_words)\n",
    "\n",
    "def create_doc(text):\n",
    "    \"\"\" \n",
    "    Creates a document of lowercase words from input text.  Input text is first tokenized by text_to_word_sequence (Keras), \n",
    "    lemmatized (WordNetLemmatizer), and then removed of stop words.\n",
    "    \n",
    "    Parameters\n",
    "    ----------\n",
    "    text     : str\n",
    "        Raw review text from Amazon reviews.\n",
    "    \n",
    "    Returns\n",
    "    -------\n",
    "    -        : str\n",
    "        Document of lowercase words.\n",
    "        \n",
    "    \"\"\"\n",
    "    # Tokenize with function from Keras.\n",
    "    tokens = text_to_word_sequence(text)\n",
    "    \n",
    "    # Lemmatize all tokens to base form.\n",
    "    base_tokens = [WordNetLemmatizer().lemmatize(word) for word in tokens if len(word) > 3]\n",
    "    \n",
    "    # Remove stop words.\n",
    "    doc_words = [word for word in base_tokens if not word in stopwords_set]\n",
    "    \n",
    "    return (\" \".join(doc_words))"
   ]
  },
  {
   "cell_type": "code",
   "execution_count": 34,
   "metadata": {},
   "outputs": [],
   "source": [
    "# Create new column in dataframe to hold documents.\n",
    "merged['document'] = [create_doc(review) for review in merged['reviewText']]"
   ]
  },
  {
   "cell_type": "code",
   "execution_count": 35,
   "metadata": {},
   "outputs": [
    {
     "name": "stdout",
     "output_type": "stream",
     "text": [
      "reviewText    This air pressure regulator has intermittent problems with leaking air as if you were trying to lower the pressure when in fact I haven't touched it.  The only way to make it stop leaking is to tu...\n",
      "Name: 717233, dtype: object\n",
      "document    pressure regulator intermittent problem leaking trying lower pressure fact touched make stop leaking turn pressure zero turn back\n",
      "length                                                                                                                                     47\n",
      "Name: 717233, dtype: object \n",
      "\n",
      "reviewText    Gave this to my athletic trainer grandson, and now with football season, it's a daily use item.  You do have to remove the blade assembly to clean the cutting edge and remove tape residue.\n",
      "Name: 75122, dtype: object\n",
      "document    gave athletic trainer grandson football season daily item remove blade assembly clean cutting edge remove tape residue\n",
      "length                                                                                                                          34\n",
      "Name: 75122, dtype: object \n",
      "\n",
      "reviewText    Not for use in cold weather.  The Ballast they use is extremely cheap and will not survive the winter cold and snow.  They do work great when new, puts out a lot of light.\n",
      "Name: 437580, dtype: object\n",
      "document    cold weather ballast extremely cheap survive winter cold snow work great put light\n",
      "length                                                                                      34\n",
      "Name: 437580, dtype: object \n",
      "\n",
      "reviewText    Make your own connector when using two 55 inch guide rails and save yourself $16.00 as with metal .  The clue is to use a good painters tape on the back side of the rails for perfect alignment and...\n",
      "Name: 392390, dtype: object\n",
      "document    make connector using inch guide rail save metal clue good painter tape back side rail perfect alignment usage\n",
      "length                                                                                                                 40\n",
      "Name: 392390, dtype: object \n",
      "\n",
      "reviewText    The light is great! The ability to dim the lamp is great! And its a nice attractive design.\n",
      "Name: 1239461, dtype: object\n",
      "document    light great ability lamp great nice attractive design\n",
      "length                                                         18\n",
      "Name: 1239461, dtype: object \n",
      "\n",
      "reviewText    These are great for projects where you are disconnecting items. Use them to mark hoses/connections, etc.\n",
      "Name: 836135, dtype: object\n",
      "document    great project disconnecting item mark hose connection\n",
      "length                                                         16\n",
      "Name: 836135, dtype: object \n",
      "\n",
      "reviewText    Exactly what I needed to fix the Liftmaster opener in my shop. The hardest part was working 15 feet in the air to do the job because I didn't want to lower the whole thing to the ground.\n",
      "Name: 628572, dtype: object\n",
      "document    exactly needed liftmaster opener shop hardest part working foot want lower whole thing ground\n",
      "length                                                                                                 38\n",
      "Name: 628572, dtype: object \n",
      "\n",
      "reviewText    These are the first LEDs light bulbs that we have installed. They replace the halogen bulbs over our kitchen bar and \"WOW\" the light is intense but soft. On yes, I would recommend the product!!\n",
      "Name: 702298, dtype: object\n",
      "document    first led light bulb installed replace halogen bulb kitchen light intense soft would recommend product\n",
      "length                                                                                                          35\n",
      "Name: 702298, dtype: object \n",
      "\n",
      "reviewText    It was a quick delivery and the item works great on border trim instead of permanent connecting to the wall.\n",
      "Name: 316693, dtype: object\n",
      "document    quick delivery item work great border trim instead permanent connecting wall\n",
      "length                                                                                20\n",
      "Name: 316693, dtype: object \n",
      "\n",
      "reviewText    I had a regular non-colored aluminum square and it was hard to read the marks under weird lighting.  I saw this in store and thought I'd upgrade since the one I had wasn't perfectly square anyway....\n",
      "Name: 820754, dtype: object\n",
      "document    regular colored aluminum square hard read mark weird lighting store thought upgrade since perfectly square anyway nicely square made sure check various square level selling store around marking re...\n",
      "length                                                                                                                                                                                                          125\n",
      "Name: 820754, dtype: object \n",
      "\n"
     ]
    }
   ],
   "source": [
    "# Compare reviewText and created document.\n",
    "randomlist = sample(range(merged.shape[0]), 10)\n",
    "for i in randomlist:\n",
    "    print(merged.loc[i, ['reviewText']])\n",
    "    print(merged.loc[i, ['document', 'length']], \"\\n\")"
   ]
  },
  {
   "cell_type": "markdown",
   "metadata": {},
   "source": [
    "## Save Clean Data to File"
   ]
  },
  {
   "cell_type": "code",
   "execution_count": 36,
   "metadata": {},
   "outputs": [],
   "source": [
    "# Save clean review and product data to file.\n",
    "merged.to_csv(\"../data/reviews_clean.csv\", index=False)"
   ]
  }
 ],
 "metadata": {
  "kernelspec": {
   "display_name": "Python 3",
   "language": "python",
   "name": "python3"
  },
  "language_info": {
   "codemirror_mode": {
    "name": "ipython",
    "version": 3
   },
   "file_extension": ".py",
   "mimetype": "text/x-python",
   "name": "python",
   "nbconvert_exporter": "python",
   "pygments_lexer": "ipython3",
   "version": "3.8.5"
  },
  "latex_envs": {
   "LaTeX_envs_menu_present": true,
   "autoclose": false,
   "autocomplete": true,
   "bibliofile": "biblio.bib",
   "cite_by": "apalike",
   "current_citInitial": 1,
   "eqLabelWithNumbers": true,
   "eqNumInitial": 1,
   "hotkeys": {
    "equation": "Ctrl-E",
    "itemize": "Ctrl-I"
   },
   "labels_anchors": false,
   "latex_user_defs": false,
   "report_style_numbering": false,
   "user_envs_cfg": false
  },
  "toc": {
   "base_numbering": 1,
   "nav_menu": {},
   "number_sections": false,
   "sideBar": true,
   "skip_h1_title": true,
   "title_cell": "Table of Contents",
   "title_sidebar": "Contents",
   "toc_cell": true,
   "toc_position": {},
   "toc_section_display": true,
   "toc_window_display": false
  },
  "varInspector": {
   "cols": {
    "lenName": 16,
    "lenType": 16,
    "lenVar": 40
   },
   "kernels_config": {
    "python": {
     "delete_cmd_postfix": "",
     "delete_cmd_prefix": "del ",
     "library": "var_list.py",
     "varRefreshCmd": "print(var_dic_list())"
    },
    "r": {
     "delete_cmd_postfix": ") ",
     "delete_cmd_prefix": "rm(",
     "library": "var_list.r",
     "varRefreshCmd": "cat(var_dic_list()) "
    }
   },
   "types_to_exclude": [
    "module",
    "function",
    "builtin_function_or_method",
    "instance",
    "_Feature"
   ],
   "window_display": false
  }
 },
 "nbformat": 4,
 "nbformat_minor": 4
}
