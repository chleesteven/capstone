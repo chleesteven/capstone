{
 "cells": [
  {
   "cell_type": "markdown",
   "metadata": {},
   "source": [
    "# Capstone Project: Amazon Review Classification (Part 1)\n",
    "Author: **Steven Lee**"
   ]
  },
  {
   "cell_type": "markdown",
   "metadata": {},
   "source": [
    "# Categorizing Amazon Reviews"
   ]
  },
  {
   "cell_type": "markdown",
   "metadata": {},
   "source": [
    "User reviews on products and services can often provide potentially valuable feedback to sellers and service providers on various business related areas.  At the very least, for instance, the reviews could signal potential problems with the manufacture of goods, a dip in the quality of services, or some issue with deliveries.  Additionally, they could also provide business owners with many ideas on how to improve products and services.  Better than that, they could even sometimes provide them with ideas of new products or services that already have a demand.\n",
    "\n",
    "The goal is to build a classification model to categorize reviews into meaningful multi-classes, and help inform on the multiple product aspects that customers find below par, meet expectations or lacking in certain regards.  This new model would have an Accuracy score above 85%.  Models included for comparison will include, Naive Bayes, Random Forest and Neural Networks.\n",
    "\n",
    "Sentiment analysis merely attempts to see if a review is positive or negative.  While this is helpful, it only tells business owners the proportion of buyers who were happy or unsatisfied with their purchases.  This model will help the business owner gain more meaningful insights about their products and more."
   ]
  },
  {
   "cell_type": "markdown",
   "metadata": {
    "toc": true
   },
   "source": [
    "<h1>Table of Contents<span class=\"tocSkip\"></span></h1>\n",
    "<div class=\"toc\"><ul class=\"toc-item\"><li><span><a href=\"#Import-Data\" data-toc-modified-id=\"Import-Data-1\">Import Data</a></span></li><li><span><a href=\"#Check-for-Nulls\" data-toc-modified-id=\"Check-for-Nulls-2\">Check for Nulls</a></span></li><li><span><a href=\"#Fix-Data-Errors\" data-toc-modified-id=\"Fix-Data-Errors-3\">Fix Data Errors</a></span></li><li><span><a href=\"#Impute-Missing-Discrete-Values\" data-toc-modified-id=\"Impute-Missing-Discrete-Values-4\">Impute Missing Discrete Values</a></span></li><li><span><a href=\"#Impute-Missing-Continuous-Values\" data-toc-modified-id=\"Impute-Missing-Continuous-Values-5\">Impute Missing Continuous Values</a></span></li><li><span><a href=\"#Impute-Missing-Ordinal-Values\" data-toc-modified-id=\"Impute-Missing-Ordinal-Values-6\">Impute Missing Ordinal Values</a></span></li><li><span><a href=\"#Impute-Missing-Nominal-Values\" data-toc-modified-id=\"Impute-Missing-Nominal-Values-7\">Impute Missing Nominal Values</a></span></li><li><span><a href=\"#Check-Discrete-Value-Errors\" data-toc-modified-id=\"Check-Discrete-Value-Errors-8\">Check Discrete Value Errors</a></span></li><li><span><a href=\"#Check-Continuous-Value-Errors\" data-toc-modified-id=\"Check-Continuous-Value-Errors-9\">Check Continuous Value Errors</a></span></li><li><span><a href=\"#Impute-Remaining-Ordinal-Values\" data-toc-modified-id=\"Impute-Remaining-Ordinal-Values-10\">Impute Remaining Ordinal Values</a></span></li><li><span><a href=\"#Encode-Remaining-Nominal-Values\" data-toc-modified-id=\"Encode-Remaining-Nominal-Values-11\">Encode Remaining Nominal Values</a></span></li><li><span><a href=\"#Save-Clean-Data-to-File\" data-toc-modified-id=\"Save-Clean-Data-to-File-12\">Save Clean Data to File</a></span></li></ul></div>"
   ]
  },
  {
   "cell_type": "markdown",
   "metadata": {},
   "source": [
    "## Import Data"
   ]
  },
  {
   "cell_type": "code",
   "execution_count": 1,
   "metadata": {},
   "outputs": [],
   "source": [
    "# Import required libraries.\n",
    "import numpy as np\n",
    "import pandas as pd\n",
    "import gzip\n",
    "import json\n",
    "\n",
    "# Set pandas option to display 500 columns.\n",
    "pd.set_option('display.max_columns', 500)"
   ]
  },
  {
   "cell_type": "code",
   "execution_count": 17,
   "metadata": {},
   "outputs": [],
   "source": [
    "# Initialise variables.\n",
    "review_file = \"../data/Tools_and_Home_Improvement_5.json.gz\""
   ]
  },
  {
   "cell_type": "code",
   "execution_count": 18,
   "metadata": {},
   "outputs": [],
   "source": [
    "def parse(path):\n",
    "    g = gzip.open(path, 'rb')\n",
    "    for l in g:\n",
    "        yield json.loads(l)\n",
    "\n",
    "def getDF(path):\n",
    "    i = 0\n",
    "    df = {}\n",
    "    for d in parse(path):\n",
    "        df[i] = d\n",
    "        i += 1\n",
    "    return pd.DataFrame.from_dict(df, orient='index')"
   ]
  },
  {
   "cell_type": "code",
   "execution_count": 19,
   "metadata": {},
   "outputs": [
    {
     "name": "stdout",
     "output_type": "stream",
     "text": [
      "Wall time: 27.2 s\n"
     ]
    },
    {
     "data": {
      "text/html": [
       "<div>\n",
       "<style scoped>\n",
       "    .dataframe tbody tr th:only-of-type {\n",
       "        vertical-align: middle;\n",
       "    }\n",
       "\n",
       "    .dataframe tbody tr th {\n",
       "        vertical-align: top;\n",
       "    }\n",
       "\n",
       "    .dataframe thead th {\n",
       "        text-align: right;\n",
       "    }\n",
       "</style>\n",
       "<table border=\"1\" class=\"dataframe\">\n",
       "  <thead>\n",
       "    <tr style=\"text-align: right;\">\n",
       "      <th></th>\n",
       "      <th>overall</th>\n",
       "      <th>verified</th>\n",
       "      <th>reviewTime</th>\n",
       "      <th>reviewerID</th>\n",
       "      <th>asin</th>\n",
       "      <th>style</th>\n",
       "      <th>reviewerName</th>\n",
       "      <th>reviewText</th>\n",
       "      <th>summary</th>\n",
       "      <th>unixReviewTime</th>\n",
       "      <th>vote</th>\n",
       "      <th>image</th>\n",
       "    </tr>\n",
       "  </thead>\n",
       "  <tbody>\n",
       "    <tr>\n",
       "      <th>0</th>\n",
       "      <td>5.0</td>\n",
       "      <td>True</td>\n",
       "      <td>01 28, 2018</td>\n",
       "      <td>AL19QO4XLBQPU</td>\n",
       "      <td>0982085028</td>\n",
       "      <td>{'Style:': ' 1) IR30 POU (30A/3.4kW/110v)'}</td>\n",
       "      <td>J. Mollenkamp</td>\n",
       "      <td>returned, decided against this product</td>\n",
       "      <td>Five Stars</td>\n",
       "      <td>1517097600</td>\n",
       "      <td>NaN</td>\n",
       "      <td>NaN</td>\n",
       "    </tr>\n",
       "    <tr>\n",
       "      <th>1</th>\n",
       "      <td>5.0</td>\n",
       "      <td>True</td>\n",
       "      <td>11 30, 2017</td>\n",
       "      <td>A1I7CVB7X3T81E</td>\n",
       "      <td>0982085028</td>\n",
       "      <td>{'Style:': ' 3) IR260 POU (30A/6kW/220v)'}</td>\n",
       "      <td>warfam</td>\n",
       "      <td>Awesome heater for the electrical requirements...</td>\n",
       "      <td>Five Stars</td>\n",
       "      <td>1512000000</td>\n",
       "      <td>NaN</td>\n",
       "      <td>NaN</td>\n",
       "    </tr>\n",
       "    <tr>\n",
       "      <th>2</th>\n",
       "      <td>5.0</td>\n",
       "      <td>True</td>\n",
       "      <td>09 12, 2017</td>\n",
       "      <td>A1AQXO4P5U674E</td>\n",
       "      <td>0982085028</td>\n",
       "      <td>{'Style:': ' Style64'}</td>\n",
       "      <td>gbieber2</td>\n",
       "      <td>Keeps the mist of your wood trim and on you. B...</td>\n",
       "      <td>Five Stars</td>\n",
       "      <td>1505174400</td>\n",
       "      <td>NaN</td>\n",
       "      <td>NaN</td>\n",
       "    </tr>\n",
       "    <tr>\n",
       "      <th>3</th>\n",
       "      <td>4.0</td>\n",
       "      <td>True</td>\n",
       "      <td>07 19, 2017</td>\n",
       "      <td>AIRV678P7C4NK</td>\n",
       "      <td>0982085028</td>\n",
       "      <td>NaN</td>\n",
       "      <td>Justin Banner</td>\n",
       "      <td>So far I hooked it up and tested it , filled a...</td>\n",
       "      <td>it is the perfect temp for a shower</td>\n",
       "      <td>1500422400</td>\n",
       "      <td>NaN</td>\n",
       "      <td>NaN</td>\n",
       "    </tr>\n",
       "    <tr>\n",
       "      <th>4</th>\n",
       "      <td>1.0</td>\n",
       "      <td>True</td>\n",
       "      <td>05 25, 2017</td>\n",
       "      <td>A22I5QDNTNECDW</td>\n",
       "      <td>0982085028</td>\n",
       "      <td>{'Style:': ' 3) IR260 POU (30A/6kW/220v)'}</td>\n",
       "      <td>daveparker</td>\n",
       "      <td>i installed this 10 months ago, instructions w...</td>\n",
       "      <td>worked well...for 10 months.</td>\n",
       "      <td>1495670400</td>\n",
       "      <td>16</td>\n",
       "      <td>NaN</td>\n",
       "    </tr>\n",
       "  </tbody>\n",
       "</table>\n",
       "</div>"
      ],
      "text/plain": [
       "   overall  verified   reviewTime      reviewerID        asin  \\\n",
       "0      5.0      True  01 28, 2018   AL19QO4XLBQPU  0982085028   \n",
       "1      5.0      True  11 30, 2017  A1I7CVB7X3T81E  0982085028   \n",
       "2      5.0      True  09 12, 2017  A1AQXO4P5U674E  0982085028   \n",
       "3      4.0      True  07 19, 2017   AIRV678P7C4NK  0982085028   \n",
       "4      1.0      True  05 25, 2017  A22I5QDNTNECDW  0982085028   \n",
       "\n",
       "                                         style   reviewerName  \\\n",
       "0  {'Style:': ' 1) IR30 POU (30A/3.4kW/110v)'}  J. Mollenkamp   \n",
       "1   {'Style:': ' 3) IR260 POU (30A/6kW/220v)'}         warfam   \n",
       "2                       {'Style:': ' Style64'}       gbieber2   \n",
       "3                                          NaN  Justin Banner   \n",
       "4   {'Style:': ' 3) IR260 POU (30A/6kW/220v)'}     daveparker   \n",
       "\n",
       "                                          reviewText  \\\n",
       "0             returned, decided against this product   \n",
       "1  Awesome heater for the electrical requirements...   \n",
       "2  Keeps the mist of your wood trim and on you. B...   \n",
       "3  So far I hooked it up and tested it , filled a...   \n",
       "4  i installed this 10 months ago, instructions w...   \n",
       "\n",
       "                               summary  unixReviewTime vote image  \n",
       "0                           Five Stars      1517097600  NaN   NaN  \n",
       "1                           Five Stars      1512000000  NaN   NaN  \n",
       "2                           Five Stars      1505174400  NaN   NaN  \n",
       "3  it is the perfect temp for a shower      1500422400  NaN   NaN  \n",
       "4         worked well...for 10 months.      1495670400   16   NaN  "
      ]
     },
     "execution_count": 19,
     "metadata": {},
     "output_type": "execute_result"
    }
   ],
   "source": [
    "%%time\n",
    "\n",
    "df = getDF(review_file)\n",
    "df.head()"
   ]
  },
  {
   "cell_type": "code",
   "execution_count": 20,
   "metadata": {},
   "outputs": [
    {
     "data": {
      "text/plain": [
       "(2070831, 12)"
      ]
     },
     "execution_count": 20,
     "metadata": {},
     "output_type": "execute_result"
    }
   ],
   "source": [
    "df.shape"
   ]
  },
  {
   "cell_type": "code",
   "execution_count": 21,
   "metadata": {},
   "outputs": [
    {
     "data": {
      "text/plain": [
       "overall           float64\n",
       "verified             bool\n",
       "reviewTime         object\n",
       "reviewerID         object\n",
       "asin               object\n",
       "style              object\n",
       "reviewerName       object\n",
       "reviewText         object\n",
       "summary            object\n",
       "unixReviewTime      int64\n",
       "vote               object\n",
       "image              object\n",
       "dtype: object"
      ]
     },
     "execution_count": 21,
     "metadata": {},
     "output_type": "execute_result"
    }
   ],
   "source": [
    "df.dtypes"
   ]
  },
  {
   "cell_type": "code",
   "execution_count": 22,
   "metadata": {},
   "outputs": [
    {
     "name": "stdout",
     "output_type": "stream",
     "text": [
      "returned, decided against this product\n",
      "...\n",
      "\n",
      "Awesome heater for the electrical requirements! Makes an awesome preheater for my talnkless system\n",
      "...\n",
      "\n",
      "Keeps the mist of your wood trim and on you. Bendable too.\n",
      "...\n",
      "\n",
      "So far I hooked it up and tested it , filled a five gallon bucket with hot water, it is the perfect temp for a shower,the flow valve that came with it broke when i tried to tighten it to get it to stop leaking,just hooked it directly to sharkbite pex fitting,seems to work fine without the valve. it is hooked up to a 2 poll 20 amp breaker, will have to wait till the rest of my bathroom is finished to give a better review.\n",
      "...\n",
      "\n",
      "i installed this 10 months ago, instructions were easy and it worked well. this week, the water heater is stuck on 26/27. i tried all the different modes from 1-4, reset my circuit breakers, no changes. it won't heat water anymore.\n",
      "\n",
      "UPDATE 1-20-18\n",
      "\n",
      "Their warranty requires you to have a licensed installer. But that isn't my complaint. Its their useless service that renders the most possible difficulty and monetary gain on the company that disturbs me. I actually dropped off my heater to get fixed when this company was named SuperGreen, seems they changed names. Their supposed heating element that lasts 20 years was broken in 10 months. When I tried to pick it up, they made it as difficult for me to pick up as possible after 5pm at the worst traffic. They are never in the office, but if you show up they will try to make a show that they are working hard. If you call them its some VOIP callback system with really bad sound quality, the baby crying in the background gives it away pretty quickly. This product seems like some kind of repackaged Alibaba heater, as the Celsius reading is obviously not made for the USA market.\n",
      "\n",
      "Rather than jump through their hoops to pick up my repaired heater, I just left it there because I figured it will save me more problems down the road and I really don't want to deal with their bad service anymore. I bought another company's water heater, installed it myself. Didn't require any contractor to install it and the warranty is good. The new water heater readings are in F, not C.  The Supergreen/SioGreen dial adjusting inlet where you have to manually turn wasn't required, my new water heater just worked. Less headache, more hot water. That's all I wanted, and I got it with another manufacturer.\n",
      "...\n",
      "\n",
      "What can I say it broke, and forgot the warranty to send it in. So I have to pay lots of money on shipping and repair. Not going to happen.\n",
      "...\n",
      "\n",
      "Much better than other brands.  $20 bucks cheaper if you buy direct,  plus you'll have real warranty.  Amazon is a 30 deal,  after that Good Luck.  The ratings are always less than advertised.  Plastic in/out connection are STUPID.  The instructions are horrible.  I'm keeping it only because the other types are horrible.\n",
      "...\n",
      "\n",
      "Not good for only hot water heater for house. Still have problems with correct water pressure . I would use for a second water heater off a main hot water heater maybe that will be better fit.\n",
      "...\n",
      "\n",
      "I use this to make my matcha tea froth up.  It is easy and it is relaxing to whisk the matcha.  It froths the matcha tea well and it is very easy to clean.\n",
      "...\n",
      "\n",
      "Work well.  The only complaint I have is that when we loose power, which happens fairly regularly, this unit turns off instead of returning to an on state when the power is restored.  Fortunately mine is mounted in a convenient location so it is easy the check and turn on if necessary.\n",
      "...\n",
      "\n"
     ]
    }
   ],
   "source": [
    "for i in range(10):\n",
    "    print(df.loc[i, 'reviewText'])\n",
    "    input(\"...\\n\")"
   ]
  },
  {
   "cell_type": "code",
   "execution_count": null,
   "metadata": {},
   "outputs": [],
   "source": [
    "\n"
   ]
  },
  {
   "cell_type": "code",
   "execution_count": null,
   "metadata": {},
   "outputs": [],
   "source": []
  },
  {
   "cell_type": "code",
   "execution_count": null,
   "metadata": {},
   "outputs": [],
   "source": []
  },
  {
   "cell_type": "code",
   "execution_count": null,
   "metadata": {},
   "outputs": [],
   "source": []
  },
  {
   "cell_type": "code",
   "execution_count": null,
   "metadata": {
    "scrolled": true
   },
   "outputs": [],
   "source": [
    "# Read in training dataset and view the first 5 records.\n",
    "data = pd.read_csv(\"../data/train.csv\")\n",
    "data.head()"
   ]
  },
  {
   "cell_type": "code",
   "execution_count": null,
   "metadata": {},
   "outputs": [],
   "source": [
    "# Read in test dataset and view the first 5 records.\n",
    "df = pd.read_csv(\"../data/test.csv\")\n",
    "df.head()"
   ]
  },
  {
   "cell_type": "code",
   "execution_count": null,
   "metadata": {},
   "outputs": [],
   "source": [
    "# Check number of records and columns.\n",
    "data.shape"
   ]
  },
  {
   "cell_type": "code",
   "execution_count": null,
   "metadata": {},
   "outputs": [],
   "source": [
    "# Check for data types and nulls.\n",
    "data.info()"
   ]
  },
  {
   "cell_type": "markdown",
   "metadata": {},
   "source": [
    "## Check for Nulls"
   ]
  },
  {
   "cell_type": "code",
   "execution_count": null,
   "metadata": {},
   "outputs": [],
   "source": [
    "data.isnull().sum()"
   ]
  },
  {
   "cell_type": "code",
   "execution_count": null,
   "metadata": {},
   "outputs": [],
   "source": []
  },
  {
   "cell_type": "code",
   "execution_count": null,
   "metadata": {},
   "outputs": [],
   "source": []
  },
  {
   "cell_type": "code",
   "execution_count": null,
   "metadata": {},
   "outputs": [],
   "source": []
  },
  {
   "cell_type": "code",
   "execution_count": null,
   "metadata": {},
   "outputs": [],
   "source": []
  },
  {
   "cell_type": "markdown",
   "metadata": {},
   "source": [
    "## Fix Data Errors"
   ]
  },
  {
   "cell_type": "code",
   "execution_count": null,
   "metadata": {},
   "outputs": [],
   "source": []
  },
  {
   "cell_type": "code",
   "execution_count": null,
   "metadata": {},
   "outputs": [],
   "source": []
  },
  {
   "cell_type": "code",
   "execution_count": null,
   "metadata": {},
   "outputs": [],
   "source": []
  },
  {
   "cell_type": "code",
   "execution_count": null,
   "metadata": {},
   "outputs": [],
   "source": []
  },
  {
   "cell_type": "code",
   "execution_count": null,
   "metadata": {},
   "outputs": [],
   "source": []
  },
  {
   "cell_type": "markdown",
   "metadata": {},
   "source": [
    "## Impute Missing Discrete Values"
   ]
  },
  {
   "cell_type": "code",
   "execution_count": null,
   "metadata": {},
   "outputs": [],
   "source": []
  },
  {
   "cell_type": "code",
   "execution_count": null,
   "metadata": {},
   "outputs": [],
   "source": []
  },
  {
   "cell_type": "code",
   "execution_count": null,
   "metadata": {},
   "outputs": [],
   "source": []
  },
  {
   "cell_type": "code",
   "execution_count": null,
   "metadata": {},
   "outputs": [],
   "source": []
  },
  {
   "cell_type": "code",
   "execution_count": null,
   "metadata": {},
   "outputs": [],
   "source": []
  },
  {
   "cell_type": "code",
   "execution_count": null,
   "metadata": {},
   "outputs": [],
   "source": [
    "# Check discrete variables for nulls.\n",
    "discrete_vars = [\n",
    "    'Id',\n",
    "    'Yr Sold'\n",
    "]\n",
    "\n",
    "ames_housing[discrete_vars].isnull().sum()"
   ]
  },
  {
   "cell_type": "code",
   "execution_count": null,
   "metadata": {},
   "outputs": [],
   "source": [
    "# Explore discrete Bsmt variables with nulls.\n",
    "bsmt_vars = [\n",
    "    'Bsmt Qual',\n",
    "    'Bsmt Half Bath'\n",
    "]\n",
    "\n",
    "ames_housing.loc[(ames_housing['Bsmt Full Bath'].isnull()) | (ames_housing['Bsmt Half Bath'].isnull()), bsmt_vars]\n",
    "\n",
    "# The 2 records (index 616 and 1327) are the same for both 'Bsmt Full Bath' is null and 'Bsmt Half Bath' is null."
   ]
  },
  {
   "cell_type": "code",
   "execution_count": null,
   "metadata": {},
   "outputs": [],
   "source": [
    "# Total Bsmt SF has 1 null record and is of float data type, so check also for zero values.\n",
    "ames_housing.loc[(ames_housing['Total Bsmt SF'].isnull()) | (ames_housing['Total Bsmt SF'] < 1), bsmt_vars].head()\n",
    "\n",
    "# It is evident that all these 114 houses have no basement."
   ]
  },
  {
   "cell_type": "code",
   "execution_count": null,
   "metadata": {},
   "outputs": [],
   "source": [
    "# Update the 2 records to be consistent with the other records without basement.\n",
    "ames_housing.at[616, 'Bsmt Full Bath'] = 0"
   ]
  },
  {
   "cell_type": "code",
   "execution_count": null,
   "metadata": {},
   "outputs": [],
   "source": [
    "# Explore discrete Garage variables with nulls.\n",
    "garage_vars = [\n",
    "    'Garage Type',\n",
    "    'Garage Cond'\n",
    "]\n",
    "\n",
    "ames_housing.loc[(ames_housing['Garage Yr Blt'].isnull()) | (ames_housing['Garage Cars'].isnull()), garage_vars].head()"
   ]
  },
  {
   "cell_type": "code",
   "execution_count": null,
   "metadata": {},
   "outputs": [],
   "source": [
    "# Check for record with null Garage Cars.\n",
    "ames_housing.loc[(ames_housing['Garage Cars'].isnull()), garage_vars]\n",
    "\n",
    "# Null Garage Cars record also has null Garage Yr Blt, but has a valid Garage Type."
   ]
  },
  {
   "cell_type": "code",
   "execution_count": null,
   "metadata": {},
   "outputs": [],
   "source": [
    "# Garage Area is of float data type, so check also for zero values.\n",
    "ames_housing.loc[(ames_housing['Garage Area'] < 1), garage_vars].count()\n",
    "\n",
    "# Except for the 1 record with a non-null Garage Type and null Garage Yr Blt, \n",
    "# it is evident the rest of the records have no garage."
   ]
  },
  {
   "cell_type": "code",
   "execution_count": null,
   "metadata": {},
   "outputs": [],
   "source": [
    "# Inpute Garage Yr Blt null values to the Year Built (Original construction date).\n",
    "ames_housing['Garage Yr Blt'] = ames_housing['Garage Yr Blt'].fillna(ames_housing['Year Built'])"
   ]
  },
  {
   "cell_type": "code",
   "execution_count": null,
   "metadata": {},
   "outputs": [],
   "source": [
    "# Assuming that the record with null Garage Cars has an error Garage Type, \n",
    "# since all other garage related columns have null values.\n",
    "# Updating this record to be consistent with other records without a garage.\n",
    "ames_housing.at[1712, 'Garage Type'] = np.nan\n",
    "ames_housing.at[1712, 'Garage Cars'] = 0"
   ]
  },
  {
   "cell_type": "markdown",
   "metadata": {},
   "source": [
    "## Impute Missing Continuous Values"
   ]
  },
  {
   "cell_type": "code",
   "execution_count": null,
   "metadata": {},
   "outputs": [],
   "source": []
  },
  {
   "cell_type": "code",
   "execution_count": null,
   "metadata": {},
   "outputs": [],
   "source": []
  },
  {
   "cell_type": "code",
   "execution_count": null,
   "metadata": {},
   "outputs": [],
   "source": []
  },
  {
   "cell_type": "code",
   "execution_count": null,
   "metadata": {},
   "outputs": [],
   "source": []
  },
  {
   "cell_type": "code",
   "execution_count": null,
   "metadata": {},
   "outputs": [],
   "source": []
  },
  {
   "cell_type": "code",
   "execution_count": null,
   "metadata": {},
   "outputs": [],
   "source": [
    "# Check continuous variables for nulls.\n",
    "continuous_vars = [\n",
    "    'Lot Frontage',\n",
    "    'Misc Val'\n",
    "]\n",
    "\n",
    "ames_housing[continuous_vars].isnull().sum()"
   ]
  },
  {
   "cell_type": "code",
   "execution_count": null,
   "metadata": {},
   "outputs": [],
   "source": [
    "# Explore continuous Lot Frontages with nulls.\n",
    "lot_vars = [\n",
    "    'Lot Frontage',\n",
    "    'Lot Area',\n",
    "    'Lot Shape',\n",
    "    'Lot Config'\n",
    "]\n",
    "\n",
    "# Check if Lot Area values (has no null values) are valid.\n",
    "ames_housing.loc[ames_housing['Lot Area'] < 1, lot_vars]"
   ]
  },
  {
   "cell_type": "code",
   "execution_count": null,
   "metadata": {},
   "outputs": [],
   "source": [
    "ames_housing.loc[ames_housing['Lot Area'] <= 27*ames_housing['Lot Frontage'], lot_vars]\n",
    "\n",
    "# Lot Frontage is less than 5% the size of the Lot Area."
   ]
  },
  {
   "cell_type": "code",
   "execution_count": null,
   "metadata": {},
   "outputs": [],
   "source": [
    "# Check allocation of Lot Config values.\n",
    "ames_housing['Lot Config'].value_counts()"
   ]
  },
  {
   "cell_type": "code",
   "execution_count": null,
   "metadata": {},
   "outputs": [],
   "source": [
    "# Impute null Lot Frontage values to mean values for respective Lot Configs.\n",
    "for config in ames_housing['Lot Config'].unique():\n",
    "    # Find mean for respective Lot Config.\n",
    "    mean_frontage = round(ames_housing['Lot Frontage'][(ames_housing['Lot Config'] == config) & \n",
    "                                                       (~ames_housing['Lot Frontage'].isnull())].mean())\n",
    "    print(f\"Mean Lot Frontage for '{config}' Lot Config is: {mean_frontage}.\")\n",
    "    # Impute null Lot Frontage to mean for respective Lot Config.\n",
    "    ames_housing.loc[(ames_housing['Lot Frontage'].isnull()) & (ames_housing['Lot Config'] == config), \n",
    "                     'Lot Frontage'] = mean_frontage"
   ]
  },
  {
   "cell_type": "code",
   "execution_count": null,
   "metadata": {},
   "outputs": [],
   "source": [
    "# Explore continuous Mas Vnr Area with nulls.\n",
    "mas_vnr_vars = [\n",
    "    'Mas Vnr Type',\n",
    "    'Mas Vnr Area'\n",
    "]\n",
    "\n",
    "# Check if null Mas Vnr Area values also have null Mas Vnr Type values.\n",
    "ames_housing.loc[(ames_housing['Mas Vnr Area'].isnull()) & (ames_housing['Mas Vnr Type'].isnull()), \n",
    "                 mas_vnr_vars].isnull().sum()\n",
    "\n",
    "# These 22 houses are without any masonry veneers."
   ]
  },
  {
   "cell_type": "code",
   "execution_count": null,
   "metadata": {},
   "outputs": [],
   "source": [
    "# Check allocation of Mas Vnr Types.\n",
    "ames_housing['Mas Vnr Type'].value_counts()"
   ]
  },
  {
   "cell_type": "code",
   "execution_count": null,
   "metadata": {},
   "outputs": [],
   "source": [
    "# Check inconsistencies between type and area values.\n",
    "ames_housing.loc[((ames_housing['Mas Vnr Type'] == 'None') & (ames_housing['Mas Vnr Area'] > 0)) | \n",
    "                 ((ames_housing['Mas Vnr Type'] != 'None') & (ames_housing['Mas Vnr Area'] == 0)), \n",
    "                 mas_vnr_vars].value_counts()\n",
    "\n",
    "# (*) Need to circle back to address these 8 inconsistencises when looking into nominal variables."
   ]
  },
  {
   "cell_type": "code",
   "execution_count": null,
   "metadata": {},
   "outputs": [],
   "source": [
    "# Update Mas Vnr Area to 0 where Mas Vnr Type is None and Mas Vnr Area is one.\n",
    "ames_housing.loc[(ames_housing['Mas Vnr Area'] == 1) & (ames_housing['Mas Vnr Type'] == 'None'), 'Mas Vnr Area'] = 0"
   ]
  },
  {
   "cell_type": "code",
   "execution_count": null,
   "metadata": {},
   "outputs": [],
   "source": [
    "# Impute erroneous Mas Vnr Type and Mas Vnr Area values to mean values based on respective Types.\n",
    "\n",
    "mean_size = round(ames_housing['Mas Vnr Area'][(ames_housing['Mas Vnr Type'] == 'BrkFace') & \n",
    "                                               (ames_housing['Mas Vnr Area'] > 0)].mean())\n",
    "print(f\"Mean BrkFace Mas Vnr Area size: {mean_size}.\")\n",
    "ames_housing.loc[(ames_housing['Mas Vnr Area'] == 0) & (ames_housing['Mas Vnr Type'] == 'BrkFace'), \n",
    "                 'Mas Vnr Area'] = mean_size"
   ]
  },
  {
   "cell_type": "code",
   "execution_count": null,
   "metadata": {},
   "outputs": [],
   "source": [
    "# Setting the Area size to 0 for the 2 records with None type and size greater than 0, \n",
    "# since it is not possible to infer the Mas Vnr Type without more information.\n",
    "ames_housing.loc[(ames_housing['Mas Vnr Type'] == 'None') & (ames_housing['Mas Vnr Area'] > 0), 'Mas Vnr Area'] = 0"
   ]
  },
  {
   "cell_type": "code",
   "execution_count": null,
   "metadata": {},
   "outputs": [],
   "source": [
    "# Update null values for Mas Vnr Type and Mas Vnr Area.\n",
    "ames_housing['Mas Vnr Type'] = ames_housing['Mas Vnr Type'].fillna('None')\n",
    "ames_housing['Mas Vnr Area'] = ames_housing['Mas Vnr Area'].fillna(0)"
   ]
  },
  {
   "cell_type": "markdown",
   "metadata": {},
   "source": [
    "## Impute Missing Ordinal Values"
   ]
  },
  {
   "cell_type": "code",
   "execution_count": null,
   "metadata": {},
   "outputs": [],
   "source": []
  },
  {
   "cell_type": "code",
   "execution_count": null,
   "metadata": {},
   "outputs": [],
   "source": []
  },
  {
   "cell_type": "code",
   "execution_count": null,
   "metadata": {},
   "outputs": [],
   "source": []
  },
  {
   "cell_type": "code",
   "execution_count": null,
   "metadata": {},
   "outputs": [],
   "source": []
  },
  {
   "cell_type": "code",
   "execution_count": null,
   "metadata": {},
   "outputs": [],
   "source": []
  },
  {
   "cell_type": "code",
   "execution_count": null,
   "metadata": {},
   "outputs": [],
   "source": [
    "# Check ordinal variables for nulls.\n",
    "ordinal_vars = [\n",
    "    'Lot Shape', \n",
    "    'Fence'\n",
    "]\n",
    "\n",
    "ames_housing[ordinal_vars].isnull().sum()"
   ]
  },
  {
   "cell_type": "code",
   "execution_count": null,
   "metadata": {},
   "outputs": [],
   "source": [
    "# Explore ordinal Bsmt related values with nulls.\n",
    "ames_housing[bsmt_vars].isnull().sum()"
   ]
  },
  {
   "cell_type": "code",
   "execution_count": null,
   "metadata": {},
   "outputs": [],
   "source": [
    "# Check for null values in the above Bsmt related values, but where Total Bsmt SF is greater than zero.\n",
    "ames_housing.loc[((ames_housing['Bsmt Qual'].isnull()) | (ames_housing['Bsmt Cond'].isnull()) |\n",
    "                 (ames_housing['BsmtFin Type 1'].isnull()) | (ames_housing['BsmtFin Type 2'].isnull()) |\n",
    "                 (ames_housing['Bsmt Exposure'].isnull())) & (ames_housing['Total Bsmt SF'] > 0), bsmt_vars]"
   ]
  },
  {
   "cell_type": "code",
   "execution_count": null,
   "metadata": {},
   "outputs": [],
   "source": [
    "# Update null Bsmt Exposure values to No (No Exposure) for the 3 records above as Total Bsmt SF is not zero.\n",
    "ames_housing.loc[(ames_housing['Bsmt Exposure'].isnull()) & (ames_housing['Total Bsmt SF'] > 0), \n",
    "                 'Bsmt Exposure'] = 'No'\n",
    "\n",
    "# Update the null BsmtFin Type 2 value to NA (No Basement) for the single record above, \n",
    "# even though the house has a basement.  For fair computation reasons.\n",
    "ames_housing.loc[(ames_housing['BsmtFin Type 2'].isnull()) & (ames_housing['Total Bsmt SF'] > 0), \n",
    "                 'BsmtFin Type 2'] = 'NA'"
   ]
  },
  {
   "cell_type": "code",
   "execution_count": null,
   "metadata": {},
   "outputs": [],
   "source": [
    "# Check for the remaining 55 null value records, which are houses without any basement i.e. Total Bsmt SF is zero.\n",
    "ames_housing.loc[((ames_housing['Bsmt Qual'].isnull()) | (ames_housing['Bsmt Cond'].isnull()) |\n",
    "                 (ames_housing['BsmtFin Type 1'].isnull()) | (ames_housing['BsmtFin Type 2'].isnull()) |\n",
    "                 ames_housing['Bsmt Exposure'].isnull()) & (ames_housing['Total Bsmt SF'] < 1), bsmt_vars].isnull().sum()"
   ]
  },
  {
   "cell_type": "code",
   "execution_count": null,
   "metadata": {},
   "outputs": [],
   "source": [
    "# Update the 55 records with Bsmt related null values accordingly as houses with No Basement (NA).\n",
    "ames_housing.loc[(ames_housing['Bsmt Qual'].isnull()) & (ames_housing['Total Bsmt SF'] == 0), 'Bsmt Qual'] = 'NA'"
   ]
  },
  {
   "cell_type": "code",
   "execution_count": null,
   "metadata": {},
   "outputs": [],
   "source": [
    "# Map ordinal values to numeric for the 5 basement related columns.\n",
    "ames_housing['BsmtFin Type 1'] = ames_housing['BsmtFin Type 1'].map({'GLQ': 6, 'ALQ': 5, 'BLQ': 4, 'Rec': 3, \n",
    "                                                                     'LwQ': 2, 'Unf': 1, 'NA': 0})"
   ]
  },
  {
   "cell_type": "code",
   "execution_count": null,
   "metadata": {},
   "outputs": [],
   "source": [
    "# Explore ordinal Fireplace Qu with nulls.\n",
    "fireplace_vars = [\n",
    "    'Fireplaces', \n",
    "    'Fireplace Qu'\n",
    "]\n",
    "\n",
    "ames_housing.loc[ames_housing['Fireplaces'] < 1, fireplace_vars].nunique(), \n",
    "\n",
    "# These 1000 houses are without fireplaces."
   ]
  },
  {
   "cell_type": "code",
   "execution_count": null,
   "metadata": {},
   "outputs": [],
   "source": [
    "# Update the 1000 records with Fireplace Qu null values with NA.\n",
    "ames_housing.loc[ames_housing['Fireplace Qu'].isnull(), 'Fireplace Qu'] = 'NA'"
   ]
  },
  {
   "cell_type": "code",
   "execution_count": null,
   "metadata": {},
   "outputs": [],
   "source": [
    "# Map ordinal values to numeric for Fireplace Qu.\n",
    "ames_housing['Fireplace Qu'] = ames_housing['Fireplace Qu'].map({'Ex': 5, 'Gd': 4, 'TA': 3, 'Fa': 2, 'Po': 1, 'NA': 0})"
   ]
  },
  {
   "cell_type": "code",
   "execution_count": null,
   "metadata": {},
   "outputs": [],
   "source": [
    "# Explore ordinal Garage variables with nulls.\n",
    "ames_housing.loc[((ames_housing['Garage Finish'].isnull()) | (ames_housing['Garage Qual'].isnull()) | \n",
    "                 (ames_housing['Garage Cond'].isnull())) & (ames_housing['Garage Area'] < 1), garage_vars].head()\n",
    "\n",
    "# These 114 records are houses without garages."
   ]
  },
  {
   "cell_type": "code",
   "execution_count": null,
   "metadata": {},
   "outputs": [],
   "source": [
    "# Update these 114 records with Garage related null values accordingly as houses with No Garage (NA).\n",
    "ames_housing.loc[(ames_housing['Garage Finish'].isnull()) & (ames_housing['Garage Area'] == 0), 'Garage Finish'] = 'NA'"
   ]
  },
  {
   "cell_type": "code",
   "execution_count": null,
   "metadata": {},
   "outputs": [],
   "source": [
    "# Map ordinal values to numeric for the 3 garage related columns.\n",
    "ames_housing['Garage Cond'] = ames_housing['Garage Cond'].map({'Ex': 5, 'Gd': 4, 'TA': 3, 'Fa': 2, 'Po': 1, 'NA': 0})"
   ]
  },
  {
   "cell_type": "code",
   "execution_count": null,
   "metadata": {},
   "outputs": [],
   "source": [
    "# Explore ordinal Pool QC with nulls.\n",
    "pool_vars = [\n",
    "    'Pool Area', \n",
    "    'Pool QC'\n",
    "]\n",
    "ames_housing.loc[ames_housing['Pool Area'] == 0, pool_vars].head()"
   ]
  },
  {
   "cell_type": "code",
   "execution_count": null,
   "metadata": {},
   "outputs": [],
   "source": [
    "ames_housing.loc[ames_housing['Pool Area'] == 0, pool_vars].count(), \n",
    "\n",
    "# These 2042 houses are without pools."
   ]
  },
  {
   "cell_type": "code",
   "execution_count": null,
   "metadata": {},
   "outputs": [],
   "source": [
    "# Update these 2042 records with Pool QC null values as houses with No Pool (NA).\n",
    "ames_housing.loc[(ames_housing['Pool QC'].isnull()) & (ames_housing['Pool Area'] == 0), 'Pool QC'] = 'NA'"
   ]
  },
  {
   "cell_type": "code",
   "execution_count": null,
   "metadata": {},
   "outputs": [],
   "source": [
    "# Map ordinal values to numeric for the Pool QC column.\n",
    "ames_housing['Pool QC'] = ames_housing['Pool QC'].map({'Ex': 5, 'Gd': 4, 'TA': 3, 'Fa': 2, 'Po': 1, 'NA': 0})"
   ]
  },
  {
   "cell_type": "code",
   "execution_count": null,
   "metadata": {},
   "outputs": [],
   "source": [
    "# Explore ordinal Fence with nulls.\n",
    "ames_housing['Fence'].value_counts()\n",
    "\n",
    "# Will assume that these 1651 houses have no fence or no fence rating."
   ]
  },
  {
   "cell_type": "code",
   "execution_count": null,
   "metadata": {},
   "outputs": [],
   "source": [
    "# Update these 1651 records with Fence null values as houses with No Fence (NA).\n",
    "ames_housing.loc[(ames_housing['Fence'].isnull()), 'Fence'] = 'NA'"
   ]
  },
  {
   "cell_type": "code",
   "execution_count": null,
   "metadata": {},
   "outputs": [],
   "source": [
    "# Map ordinal values to numeric for Fence column.\n",
    "ames_housing['Fence'] = ames_housing['Fence'].map({'GdPrv': 4, 'MnPrv': 3, 'GdWo': 2, 'MnWw': 1, 'NA': 0})"
   ]
  },
  {
   "cell_type": "markdown",
   "metadata": {},
   "source": [
    "## Impute Missing Nominal Values"
   ]
  },
  {
   "cell_type": "code",
   "execution_count": null,
   "metadata": {},
   "outputs": [],
   "source": [
    "# Check nominal variables for nulls.\n",
    "nominal_vars = [\n",
    "    'PID', \n",
    "    'Sale Type'\n",
    "]\n",
    "\n",
    "ames_housing[nominal_vars].isnull().sum()"
   ]
  },
  {
   "cell_type": "code",
   "execution_count": null,
   "metadata": {},
   "outputs": [],
   "source": [
    "# Explore nominal Alley with nulls.\n",
    "pave_vars = [\n",
    "    'Street', \n",
    "    'Alley', \n",
    "    'Paved Drive'\n",
    "]\n",
    "\n",
    "ames_housing.loc[~ames_housing['Alley'].isnull(), pave_vars].value_counts()\n",
    "\n",
    "# No noticeable connection between Street, Alley and Paved Drive."
   ]
  },
  {
   "cell_type": "code",
   "execution_count": null,
   "metadata": {},
   "outputs": [],
   "source": [
    "# Update these 1911 records with null Alley values as houses with No alley access (NA).\n",
    "ames_housing.loc[ames_housing['Alley'].isnull(), 'Alley'] = 'NA'\n",
    "\n",
    "# Dummy column creation on Alley to get new Alley Grvl, Alley Pave and Alley NA columns.\n",
    "ames_housing = pd.get_dummies(ames_housing, columns=['Alley'], prefix='Alley', prefix_sep=' ')\n",
    "\n",
    "# Drop reference category column Alley NA.\n",
    "ames_housing.drop('Alley NA', axis=1, inplace=True)"
   ]
  },
  {
   "cell_type": "code",
   "execution_count": null,
   "metadata": {},
   "outputs": [],
   "source": [
    "# Explore nominal Garage Type with nulls.\n",
    "ames_housing.loc[ames_housing['Garage Type'].isnull(), garage_vars].count()\n",
    "\n",
    "# These 114 records have been identified before to be houses without garages."
   ]
  },
  {
   "cell_type": "code",
   "execution_count": null,
   "metadata": {},
   "outputs": [],
   "source": [
    "# Update these 114 records with null Garage Type values as houses with No Garage (NA).\n",
    "ames_housing.loc[ames_housing['Garage Type'].isnull(), 'Garage Type'] = 'NA'\n",
    "\n",
    "# Dummy column creation on Garage Type to get 7 new columns prefixed with 'GTy'.\n",
    "ames_housing = pd.get_dummies(ames_housing, columns=['Garage Type'], prefix='GTy', prefix_sep=' ')\n",
    "\n",
    "# Drop reference category column GTy NA.\n",
    "ames_housing.drop('GTy NA', axis=1, inplace=True)"
   ]
  },
  {
   "cell_type": "code",
   "execution_count": null,
   "metadata": {},
   "outputs": [],
   "source": [
    "# Explore nominal Alley with nulls.\n",
    "misc_vars = [\n",
    "    'Misc Feature', \n",
    "    'Misc Val'\n",
    "]\n",
    "\n",
    "ames_housing.loc[(ames_housing['Misc Feature'].isnull()) | (ames_housing['Misc Val'] == 0), misc_vars].count()\n",
    "\n",
    "# These 1986 houses with null Misc Feature values, also have zero Misc Val."
   ]
  },
  {
   "cell_type": "code",
   "execution_count": null,
   "metadata": {},
   "outputs": [],
   "source": [
    "ames_housing.loc[(ames_housing['Misc Feature'].isnull()) | (ames_housing['Misc Val'] < 1), misc_vars].head()\n",
    "\n",
    "# These 1986 houses have no miscellaneous features."
   ]
  },
  {
   "cell_type": "code",
   "execution_count": null,
   "metadata": {},
   "outputs": [],
   "source": [
    "# Update these 1986 records with null Misc Feature values as houses with None (NA).\n",
    "ames_housing.loc[ames_housing['Misc Feature'].isnull(), 'Misc Feature'] = 'NA'\n",
    "\n",
    "# Dummy column creation on Garage Type to get 6 new columns prefixed with 'Misc'.\n",
    "ames_housing = pd.get_dummies(ames_housing, columns=['Misc Feature'], prefix='Misc', prefix_sep=' ')\n",
    "\n",
    "# Drop reference category column Misc NA.\n",
    "ames_housing.drop('Misc NA', axis=1, inplace=True)"
   ]
  },
  {
   "cell_type": "markdown",
   "metadata": {},
   "source": [
    "## Check Discrete Value Errors"
   ]
  },
  {
   "cell_type": "code",
   "execution_count": null,
   "metadata": {},
   "outputs": [],
   "source": [
    "ames_housing[discrete_vars].describe()"
   ]
  },
  {
   "cell_type": "code",
   "execution_count": null,
   "metadata": {},
   "outputs": [],
   "source": [
    "# Check that Id is unique for every record, and it is unique.\n",
    "ames_housing['Id'].nunique()"
   ]
  },
  {
   "cell_type": "code",
   "execution_count": null,
   "metadata": {},
   "outputs": [],
   "source": [
    "# Error spotted where the max Garagae Yr Blt is 2207.\n",
    "ames_housing.loc[ames_housing['Garage Yr Blt'] > 2010, discrete_vars]"
   ]
  },
  {
   "cell_type": "code",
   "execution_count": null,
   "metadata": {},
   "outputs": [],
   "source": [
    "# Correct Garage Yr Blt to be same as Year Remod/Add and Yr Sold.\n",
    "ames_housing.loc[ames_housing['Garage Yr Blt'].isnull(), 'Garage Yr Blt'] = 2007"
   ]
  },
  {
   "cell_type": "markdown",
   "metadata": {},
   "source": [
    "## Check Continuous Value Errors"
   ]
  },
  {
   "cell_type": "code",
   "execution_count": null,
   "metadata": {},
   "outputs": [],
   "source": [
    "ames_housing[continuous_vars].describe()"
   ]
  },
  {
   "cell_type": "code",
   "execution_count": null,
   "metadata": {},
   "outputs": [],
   "source": [
    "# Check that the total basement size add up.\n",
    "ames_housing.loc[(ames_housing['BsmtFin SF 1'] + ames_housing['BsmtFin SF 2'] + ames_housing['Bsmt Unf SF'])\n",
    "                > ames_housing['Total Bsmt SF'], continuous_vars]\n",
    "\n",
    "# No errors found."
   ]
  },
  {
   "cell_type": "markdown",
   "metadata": {},
   "source": [
    "## Impute Remaining Ordinal Values"
   ]
  },
  {
   "cell_type": "code",
   "execution_count": null,
   "metadata": {},
   "outputs": [],
   "source": [
    "# Map ordinal values to numeric ones.\n",
    "ames_housing['Functional'] = ames_housing['Functional'].map({'Typ': 8, 'Min1': 7, 'Min2': 6, 'Mod': 5, \n",
    "                                                             'Maj1': 4, 'Maj2': 3, 'Sev': 2, 'Sal': 1})"
   ]
  },
  {
   "cell_type": "markdown",
   "metadata": {},
   "source": [
    "## Encode Remaining Nominal Values"
   ]
  },
  {
   "cell_type": "code",
   "execution_count": null,
   "metadata": {},
   "outputs": [],
   "source": [
    "# Create dummy columns to encode nominal values and drop reference category column.\n",
    "data = pd.get_dummies(ames_housing, columns=['MS SubClass'], prefix='MSSubCl', prefix_sep=' ', drop_first=True)\n",
    "data = pd.get_dummies(ames_housing, columns=['Sale Type'], prefix='SaleTy', prefix_sep=' ')\n",
    "data.drop('SaleTy Oth', axis=1, inplace=True)"
   ]
  },
  {
   "cell_type": "markdown",
   "metadata": {},
   "source": [
    "## Save Clean Data to File"
   ]
  },
  {
   "cell_type": "code",
   "execution_count": null,
   "metadata": {},
   "outputs": [],
   "source": [
    "# Save clean training data to file.\n",
    "data.to_csv(\"../data/train_clean.csv\", index=False)"
   ]
  },
  {
   "cell_type": "code",
   "execution_count": null,
   "metadata": {},
   "outputs": [],
   "source": [
    "# Save clean test data to file.\n",
    "data.to_csv(\"../data/test_clean.csv\", index=False)"
   ]
  }
 ],
 "metadata": {
  "kernelspec": {
   "display_name": "Python 3",
   "language": "python",
   "name": "python3"
  },
  "language_info": {
   "codemirror_mode": {
    "name": "ipython",
    "version": 3
   },
   "file_extension": ".py",
   "mimetype": "text/x-python",
   "name": "python",
   "nbconvert_exporter": "python",
   "pygments_lexer": "ipython3",
   "version": "3.8.5"
  },
  "toc": {
   "base_numbering": 1,
   "nav_menu": {},
   "number_sections": false,
   "sideBar": true,
   "skip_h1_title": true,
   "title_cell": "Table of Contents",
   "title_sidebar": "Contents",
   "toc_cell": true,
   "toc_position": {},
   "toc_section_display": true,
   "toc_window_display": false
  }
 },
 "nbformat": 4,
 "nbformat_minor": 4
}
